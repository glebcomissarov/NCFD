{
 "cells": [
  {
   "cell_type": "markdown",
   "metadata": {
    "id": "pIJ774Ev4xcI"
   },
   "source": [
    "<h1> ML (VANILLA & DL)"
   ]
  },
  {
   "cell_type": "code",
   "execution_count": 1,
   "metadata": {
    "id": "R3wiX28B3cFh"
   },
   "outputs": [
    {
     "name": "stderr",
     "output_type": "stream",
     "text": [
      "/Users/glebcom/miniforge3/lib/python3.9/site-packages/xgboost/compat.py:36: FutureWarning: pandas.Int64Index is deprecated and will be removed from pandas in a future version. Use pandas.Index with the appropriate dtype instead.\n",
      "  from pandas import MultiIndex, Int64Index\n"
     ]
    }
   ],
   "source": [
    "import pandas as pd\n",
    "import numpy as np\n",
    "import networkx as nx\n",
    "import plotly.graph_objects as go\n",
    "import matplotlib.pyplot as plt\n",
    "from tqdm import tqdm\n",
    "\n",
    "from sklearn.model_selection import train_test_split, GridSearchCV\n",
    "from sklearn.multioutput import MultiOutputRegressor, RegressorChain\n",
    "from sklearn.metrics import make_scorer\n",
    "from sklearn.pipeline import Pipeline\n",
    "from sklearn.preprocessing import StandardScaler, MinMaxScaler, Normalizer\n",
    "\n",
    "from sklearn.tree import DecisionTreeRegressor\n",
    "from sklearn.ensemble import RandomForestRegressor, AdaBoostRegressor\n",
    "from sklearn.linear_model import ElasticNet, Lasso, Ridge\n",
    "import xgboost as xgb\n",
    "from xgboost import XGBRegressor\n",
    "from sklearn import svm\n",
    "from sklearn.neighbors import KNeighborsRegressor\n",
    "\n",
    "import warnings\n",
    "warnings.filterwarnings(\"ignore\")\n",
    "warnings.simplefilter(action='ignore')"
   ]
  },
  {
   "cell_type": "markdown",
   "metadata": {
    "id": "OeyZSJpBHXPQ"
   },
   "source": [
    "# Preprocessing"
   ]
  },
  {
   "cell_type": "markdown",
   "metadata": {
    "id": "t9QXUbjq41Mg"
   },
   "source": [
    "## Drawing"
   ]
  },
  {
   "cell_type": "code",
   "execution_count": 2,
   "metadata": {
    "id": "xokvAQItrNc8"
   },
   "outputs": [],
   "source": [
    "def trace_nodes(g, nodes_split):\n",
    "    node_text = [f'{node} {coord}' for node, coord in zip(nx.get_node_attributes(g, 'coords').keys(), nx.get_node_attributes(g, 'coords').values())]\n",
    "\n",
    "    coords = nx.get_node_attributes(g, 'coords')\n",
    "    colorscale = ['lightgreen', 'magenta']\n",
    "\n",
    "    trace_nodes = go.Scatter3d(x=[coords[i][0] for i in coords.keys()],\n",
    "                               y=[coords[i][1] for i in coords.keys()],\n",
    "                               z=[coords[i][2] for i in coords.keys()],\n",
    "                               mode='markers',\n",
    "                               marker=dict(symbol='circle', size=5,color=nodes_split, colorscale=colorscale),\n",
    "                               opacity=0.5,\n",
    "                               text=node_text, hoverinfo='text')\n",
    "\n",
    "    return trace_nodes"
   ]
  },
  {
   "cell_type": "code",
   "execution_count": 3,
   "metadata": {
    "id": "C0weIkz2rNZy"
   },
   "outputs": [],
   "source": [
    "def trace_edges(g):\n",
    "    coords = nx.get_node_attributes(g, 'coords')\n",
    "\n",
    "    x_edges=[]\n",
    "    y_edges=[]\n",
    "    z_edges=[]\n",
    "\n",
    "    for edge in g.edges():\n",
    "        x_coords = [coords[edge[0]][0],coords[edge[1]][0],None]\n",
    "        x_edges += x_coords\n",
    "\n",
    "        y_coords = [coords[edge[0]][1],coords[edge[1]][1],None]\n",
    "        y_edges += y_coords\n",
    "\n",
    "        z_coords = [coords[edge[0]][2],coords[edge[1]][2],None]\n",
    "        z_edges += z_coords\n",
    "\n",
    "    trace_edges = go.Scatter3d(x=x_edges, y=y_edges, z=z_edges,\n",
    "                               mode='lines',\n",
    "                               line=dict(color='rgba(74, 54, 54, 1)', width=2),\n",
    "                               hoverinfo='none')\n",
    "    \n",
    "    return trace_edges"
   ]
  },
  {
   "cell_type": "code",
   "execution_count": 4,
   "metadata": {
    "id": "FhUhZ-ul4WoI"
   },
   "outputs": [],
   "source": [
    "def draw_cube(cube_dim):\n",
    "    x = [0, cube_dim, cube_dim, 0, 0]\n",
    "    y = [0, 0, cube_dim, cube_dim, 0]\n",
    "    z1 = [0, 0, 0, 0, 0]\n",
    "    z2 = [cube_dim, cube_dim, cube_dim, cube_dim, cube_dim]\n",
    "\n",
    "    trace = []\n",
    "    e_color = 'rgba(185, 75, 75, 0.5)'\n",
    "\n",
    "    # trace top and bottom\n",
    "    trace.append(go.Scatter3d(x=x, y=y, z=z1, mode='lines', line=dict(color=e_color, width=2), hoverinfo='none'))\n",
    "    trace.append(go.Scatter3d(x=x, y=y, z=z2, mode='lines', line=dict(color=e_color, width=2), hoverinfo='none'))\n",
    "\n",
    "    # trace 4 vertical lines\n",
    "    for i in range(4):\n",
    "        trace.append(go.Scatter3d(x=[x[i],x[i]], y=[y[i],y[i]], z=[z1[0],z2[0]], mode='lines', line=dict(color=e_color, width=2), hoverinfo='none'))\n",
    "\n",
    "    return trace"
   ]
  },
  {
   "cell_type": "code",
   "execution_count": 5,
   "metadata": {
    "id": "VkF2slIdrNVh"
   },
   "outputs": [],
   "source": [
    "def draw_main_circuit(g):\n",
    "    data = []\n",
    "    data.extend(draw_cube(cube_dim=0.5))\n",
    "    node_colorscale = [1 if g.nodes[n]['type']=='r' else 0 for n in g.nodes()]\n",
    "    data.append(trace_nodes(g, node_colorscale))\n",
    "    data.append(trace_edges(g))\n",
    "\n",
    "    axis = dict(showbackground=False, showline=False, zeroline=False, showgrid=False, showticklabels=False, title='')\n",
    "    layout = go.Layout(title=\"3D grid circuit\",\n",
    "                       width=650, height=625,\n",
    "                       showlegend=False,\n",
    "                       scene=dict(xaxis=dict(axis), yaxis=dict(axis), zaxis=dict(axis)),\n",
    "                       margin=dict(t=100),\n",
    "                       hovermode='closest')\n",
    "\n",
    "    fig = go.Figure(data=data, layout=layout)\n",
    "    fig.show()"
   ]
  },
  {
   "cell_type": "markdown",
   "metadata": {
    "id": "x0E4396245_W"
   },
   "source": [
    "## Data"
   ]
  },
  {
   "cell_type": "code",
   "execution_count": 30,
   "metadata": {
    "id": "A2j7leG1EQAZ"
   },
   "outputs": [],
   "source": [
    "# data_path = '/Users/glebcom/Desktop/skoltech/research/nb/data'\n",
    "# labels_path = '/Users/glebcom/Desktop/skoltech/research/nb/data/df_labels.csv'\n",
    "\n",
    "# data = cnt_data(data_path, labels_path, save_to='df_full.csv', update=False)\n",
    "# df = data.df\n",
    "\n",
    "df = pd.read_csv('/Users/glebcom/Desktop/skoltech/research/ncfd/dataframes/df_grid2_r08_h01.csv', index_col=0)"
   ]
  },
  {
   "cell_type": "code",
   "execution_count": 31,
   "metadata": {
    "colab": {
     "base_uri": "https://localhost:8080/"
    },
    "id": "hUvcvmV7EQDR",
    "outputId": "bdcb17fc-ebb5-4174-deea-2ac92ba1c1a1"
   },
   "outputs": [
    {
     "data": {
      "text/plain": [
       "(1599, 280)"
      ]
     },
     "execution_count": 31,
     "metadata": {},
     "output_type": "execute_result"
    }
   ],
   "source": [
    "df.shape"
   ]
  },
  {
   "cell_type": "markdown",
   "metadata": {
    "id": "zrT3kskVMl7x"
   },
   "source": [
    "`StandardScaler`\n",
    "$$z = \\frac{(x - mean)}{std}$$\n",
    "\n",
    "`MinMaxScaler`\n",
    "$$std = \\frac{X - min}{max - min}$$\n",
    "$$z = std \\times (max - min) + min$$"
   ]
  },
  {
   "cell_type": "code",
   "execution_count": 13,
   "metadata": {},
   "outputs": [],
   "source": [
    "def df_transform(df):\n",
    "    df_scaled = df.copy(deep=True)\n",
    "    \n",
    "#     m = np.mean(df_scaled.iloc[-1, :-4])\n",
    "#     std = np.std(df_scaled.iloc[-1, :-4])\n",
    "    \n",
    "#     df_scaled.iloc[:-1, :-4] = (df_scaled.iloc[:-1, :-4] - m) / std\n",
    "    \n",
    "    for idx in df.index[:-1]:\n",
    "        df_scaled.iloc[idx, :-4] = df_scaled.iloc[idx, :-4] / df_scaled.iloc[-1, :-4]\n",
    "    \n",
    "    return df_scaled"
   ]
  },
  {
   "cell_type": "code",
   "execution_count": 13,
   "metadata": {},
   "outputs": [],
   "source": [
    "# df_scaled = df_transform(df)"
   ]
  },
  {
   "cell_type": "code",
   "execution_count": 14,
   "metadata": {},
   "outputs": [],
   "source": [
    "# X = df_scaled[df_scaled.columns[:-4]].iloc[:-1] #.to_numpy())\n",
    "# y = df_scaled[df_scaled.columns[-3:]].iloc[:-1] #.to_numpy()"
   ]
  },
  {
   "cell_type": "code",
   "execution_count": 32,
   "metadata": {
    "id": "W9UOmt29LBVA"
   },
   "outputs": [],
   "source": [
    "X = df[df.columns[:-4]].iloc[:-1]\n",
    "y = df[df.columns[-3:]].iloc[:-1]\n",
    "\n",
    "X_train, X_test, y_train, y_test = train_test_split(X, y, test_size=0.15,\n",
    "                                                    shuffle=True, random_state=42)"
   ]
  },
  {
   "cell_type": "code",
   "execution_count": 33,
   "metadata": {
    "id": "DTjiLxzcLHiN"
   },
   "outputs": [],
   "source": [
    "# scaler = StandardScaler()\n",
    "# scaler = MinMaxScaler()\n",
    "\n",
    "# scaler.fit(df[df.columns[:-4]].iloc[[-1]])\n",
    "\n",
    "# X = scaler.transform(df[df.columns[:-4]].iloc[:-1]) #.to_numpy())\n",
    "# y = df[df.columns[-3:]].iloc[:-1] #.to_numpy()\n",
    "\n",
    "# X = df_scaled[df_scaled.columns[:-4]].iloc[:-1] #.to_numpy())\n",
    "# y = df_scaled[df_scaled.columns[-3:]].iloc[:-1] #.to_numpy()\n",
    "\n",
    "# scaler = Normalizer()\n",
    "\n",
    "# scaler.fit(X_train)\n",
    "\n",
    "# X_train = scaler.transform(X_train)\n",
    "# X_test = scaler.transform(X_test)"
   ]
  },
  {
   "cell_type": "code",
   "execution_count": 34,
   "metadata": {
    "colab": {
     "base_uri": "https://localhost:8080/"
    },
    "id": "cVH8qwjaMCPh",
    "outputId": "cdcea064-2430-4fa9-a8d2-5d4ab2e58746"
   },
   "outputs": [
    {
     "name": "stdout",
     "output_type": "stream",
     "text": [
      "X train shape: (1358, 276)\n",
      "X test shape: (240, 276)\n"
     ]
    }
   ],
   "source": [
    "print(f'X train shape: {X_train.shape}\\nX test shape: {X_test.shape}')"
   ]
  },
  {
   "cell_type": "markdown",
   "metadata": {
    "id": "m5rq8sdnFDrK"
   },
   "source": [
    "# Vanilla models"
   ]
  },
  {
   "cell_type": "code",
   "execution_count": 35,
   "metadata": {},
   "outputs": [],
   "source": [
    "from sklearn.preprocessing import PolynomialFeatures\n",
    "from sklearn.random_projection import GaussianRandomProjection\n",
    "from sklearn.decomposition import PCA"
   ]
  },
  {
   "cell_type": "code",
   "execution_count": 36,
   "metadata": {
    "id": "lg1q6Sk6GiJg"
   },
   "outputs": [],
   "source": [
    "def distance_score(p, phat):\n",
    "    sq_sum = np.sum((p-phat)**2)\n",
    "    return np.sqrt(sq_sum)"
   ]
  },
  {
   "cell_type": "code",
   "execution_count": 37,
   "metadata": {},
   "outputs": [],
   "source": [
    "# rand_forest = Pipeline([\n",
    "#     ('3th power', PolynomialFeatures(degree=3)),\n",
    "#     ('Random Proj', GaussianRandomProjection(n_components=7, random_state=42)),\n",
    "#     ('3th power 2', PolynomialFeatures(degree=3)),\n",
    "#     ('Random Forest', RandomForestClassifier(max_depth=4, n_estimators=20, random_state=42))\n",
    "# ])\n",
    "# log_reg = Pipeline([\n",
    "#     ('Proj', GaussianRandomProjection(n_components=5, random_state=400)),\n",
    "#     ('4th power', PolynomialFeatures(4)),\n",
    "#     ('PCA', PCA(n_components=10)),\n",
    "#     ('Log Reg', LogisticRegression(penalty='l2', C=0.7, solver='lbfgs'))\n",
    "# ])"
   ]
  },
  {
   "cell_type": "code",
   "execution_count": 38,
   "metadata": {
    "id": "XRnftlIaFuZc"
   },
   "outputs": [],
   "source": [
    "def pred(X_train, y_train, X_test, model, params, scorer_func, draw=True):\n",
    "    # pipe_model = Pipeline(steps=[('reg', MultiOutputRegressor(model))])\n",
    "    # pipe_model = Pipeline(steps=[('reg', RegressorChain(model))])\n",
    "    \n",
    "    pipe_model = Pipeline([\n",
    "        #('Proj', GaussianRandomProjection(n_components=5, random_state=42)),\n",
    "        #('PCA', PCA(n_components=10)),\n",
    "        #('3rd power', PolynomialFeatures(3)),\n",
    "        #('norm', Normalizer()),\n",
    "        ('reg', MultiOutputRegressor(model))\n",
    "    ])\n",
    "\n",
    "    gs = GridSearchCV(estimator=pipe_model,\n",
    "                      param_grid=params,\n",
    "                      cv=2,\n",
    "                      scoring=scorer_func,\n",
    "                      n_jobs = -1, verbose=10)\n",
    "    \n",
    "    gs = gs.fit(X_train, y_train)\n",
    "\n",
    "    yhat = gs.best_estimator_.predict(X_test)\n",
    "\n",
    "    return gs, gs.best_estimator_, yhat"
   ]
  },
  {
   "cell_type": "code",
   "execution_count": 39,
   "metadata": {
    "id": "tf8am4u2XBfF"
   },
   "outputs": [],
   "source": [
    "# pipe_ = Pipeline(steps=[('scaler', MinMaxScaler()),\n",
    "#                         ('reg', RegressorChain(DecisionTreeRegressor()))])\n",
    "# pipe_.get_params()"
   ]
  },
  {
   "cell_type": "code",
   "execution_count": 40,
   "metadata": {
    "id": "I6EjIyfdEe3M"
   },
   "outputs": [],
   "source": [
    "dist_scorer = {\n",
    "    'neg_root_mean_squared_error': 'neg_root_mean_squared_error',\n",
    "    'distance_score': make_scorer(distance_score, greater_is_better=False)\n",
    "}\n",
    "\n",
    "models = {\n",
    "    'neighbors': KNeighborsRegressor(),\n",
    "    'rf': RandomForestRegressor(),\n",
    "    'xgboost': XGBRegressor(objective ='reg:squarederror',\n",
    "                            learning_rate=0.01),\n",
    "    'ada-boost': AdaBoostRegressor(random_state=42)\n",
    "}\n",
    "\n",
    "params = {\n",
    "    'neighbors': {\n",
    "        'reg__estimator__n_neighbors': [3, 5, 15],\n",
    "        'reg__estimator__weights': ['distance']\n",
    "    },\n",
    "    'rf': {\n",
    "        'reg__estimator__criterion': ['squared_error'],\n",
    "        'reg__estimator__max_depth': [5, 7, 10],\n",
    "        'reg__estimator__n_estimators': [700, 1000]\n",
    "    },\n",
    "    'xgboost':{\n",
    "        'reg__estimator__n_estimators': [2000],\n",
    "        'reg__estimator__max_depth': [5]\n",
    "    },\n",
    "    'ada-boost': {\n",
    "        'reg__estimator__n_estimators': [200, 500, 1000],\n",
    "        'reg__estimator__loss': ['linear', 'square'],\n",
    "        'reg__estimator__learning_rate': [0.1, 1.0, 1.5, 2.0]\n",
    "    }\n",
    "}"
   ]
  },
  {
   "cell_type": "code",
   "execution_count": 41,
   "metadata": {
    "colab": {
     "base_uri": "https://localhost:8080/"
    },
    "id": "IVb7gqNmH-F6",
    "outputId": "4c4dd78e-8758-4b55-d887-5ffbac2a23e0"
   },
   "outputs": [
    {
     "name": "stdout",
     "output_type": "stream",
     "text": [
      "Fitting 2 folds for each of 1 candidates, totalling 2 fits\n"
     ]
    },
    {
     "name": "stderr",
     "output_type": "stream",
     "text": [
      "/Users/glebcom/miniforge3/lib/python3.9/site-packages/xgboost/compat.py:36: FutureWarning: pandas.Int64Index is deprecated and will be removed from pandas in a future version. Use pandas.Index with the appropriate dtype instead.\n",
      "  from pandas import MultiIndex, Int64Index\n",
      "/Users/glebcom/miniforge3/lib/python3.9/site-packages/xgboost/compat.py:36: FutureWarning: pandas.Int64Index is deprecated and will be removed from pandas in a future version. Use pandas.Index with the appropriate dtype instead.\n",
      "  from pandas import MultiIndex, Int64Index\n",
      "/Users/glebcom/miniforge3/lib/python3.9/site-packages/xgboost/data.py:262: FutureWarning: pandas.Int64Index is deprecated and will be removed from pandas in a future version. Use pandas.Index with the appropriate dtype instead.\n",
      "  elif isinstance(data.columns, (pd.Int64Index, pd.RangeIndex)):\n",
      "/Users/glebcom/miniforge3/lib/python3.9/site-packages/xgboost/data.py:262: FutureWarning: pandas.Int64Index is deprecated and will be removed from pandas in a future version. Use pandas.Index with the appropriate dtype instead.\n",
      "  elif isinstance(data.columns, (pd.Int64Index, pd.RangeIndex)):\n"
     ]
    }
   ],
   "source": [
    "m, best_estimator, yhat = pred(X_train, y_train, X_test,\n",
    "                               models['xgboost'], params['xgboost'],\n",
    "                               scorer_func=dist_scorer['neg_root_mean_squared_error'])"
   ]
  },
  {
   "cell_type": "code",
   "execution_count": 42,
   "metadata": {
    "colab": {
     "base_uri": "https://localhost:8080/",
     "height": 259
    },
    "id": "BCHO1Dg309SC",
    "outputId": "6330db78-6142-4d76-9fcd-4984953719aa"
   },
   "outputs": [
    {
     "data": {
      "text/html": [
       "<div>\n",
       "<style scoped>\n",
       "    .dataframe tbody tr th:only-of-type {\n",
       "        vertical-align: middle;\n",
       "    }\n",
       "\n",
       "    .dataframe tbody tr th {\n",
       "        vertical-align: top;\n",
       "    }\n",
       "\n",
       "    .dataframe thead th {\n",
       "        text-align: right;\n",
       "    }\n",
       "</style>\n",
       "<table border=\"1\" class=\"dataframe\">\n",
       "  <thead>\n",
       "    <tr style=\"text-align: right;\">\n",
       "      <th></th>\n",
       "      <th>mean_fit_time</th>\n",
       "      <th>std_fit_time</th>\n",
       "      <th>mean_score_time</th>\n",
       "      <th>std_score_time</th>\n",
       "      <th>param_reg__estimator__max_depth</th>\n",
       "      <th>param_reg__estimator__n_estimators</th>\n",
       "      <th>params</th>\n",
       "      <th>split0_test_score</th>\n",
       "      <th>split1_test_score</th>\n",
       "      <th>mean_test_score</th>\n",
       "      <th>std_test_score</th>\n",
       "      <th>rank_test_score</th>\n",
       "    </tr>\n",
       "  </thead>\n",
       "  <tbody>\n",
       "    <tr>\n",
       "      <th>0</th>\n",
       "      <td>82.577445</td>\n",
       "      <td>0.409165</td>\n",
       "      <td>0.023166</td>\n",
       "      <td>0.001695</td>\n",
       "      <td>5</td>\n",
       "      <td>2000</td>\n",
       "      <td>{'reg__estimator__max_depth': 5, 'reg__estimat...</td>\n",
       "      <td>-0.069759</td>\n",
       "      <td>-0.069423</td>\n",
       "      <td>-0.069591</td>\n",
       "      <td>0.000168</td>\n",
       "      <td>1</td>\n",
       "    </tr>\n",
       "  </tbody>\n",
       "</table>\n",
       "</div>"
      ],
      "text/plain": [
       "   mean_fit_time  std_fit_time  mean_score_time  std_score_time  \\\n",
       "0      82.577445      0.409165         0.023166        0.001695   \n",
       "\n",
       "  param_reg__estimator__max_depth param_reg__estimator__n_estimators  \\\n",
       "0                               5                               2000   \n",
       "\n",
       "                                              params  split0_test_score  \\\n",
       "0  {'reg__estimator__max_depth': 5, 'reg__estimat...          -0.069759   \n",
       "\n",
       "   split1_test_score  mean_test_score  std_test_score  rank_test_score  \n",
       "0          -0.069423        -0.069591        0.000168                1  "
      ]
     },
     "execution_count": 42,
     "metadata": {},
     "output_type": "execute_result"
    }
   ],
   "source": [
    "pd.DataFrame(m.cv_results_)"
   ]
  },
  {
   "cell_type": "code",
   "execution_count": 43,
   "metadata": {
    "colab": {
     "base_uri": "https://localhost:8080/"
    },
    "id": "ri39DcW5ITv_",
    "outputId": "9203d67e-e081-4549-eab2-6f2469b303f4"
   },
   "outputs": [
    {
     "data": {
      "text/plain": [
       "Pipeline(steps=[('reg',\n",
       "                 MultiOutputRegressor(estimator=XGBRegressor(base_score=None,\n",
       "                                                             booster=None,\n",
       "                                                             colsample_bylevel=None,\n",
       "                                                             colsample_bynode=None,\n",
       "                                                             colsample_bytree=None,\n",
       "                                                             enable_categorical=False,\n",
       "                                                             gamma=None,\n",
       "                                                             gpu_id=None,\n",
       "                                                             importance_type=None,\n",
       "                                                             interaction_constraints=None,\n",
       "                                                             learning_rate=0.01,\n",
       "                                                             max_delta_step=None,\n",
       "                                                             max_depth=5,\n",
       "                                                             min_child_weight=None,\n",
       "                                                             missing=nan,\n",
       "                                                             monotone_constraints=None,\n",
       "                                                             n_estimators=2000,\n",
       "                                                             n_jobs=None,\n",
       "                                                             num_parallel_tree=None,\n",
       "                                                             predictor=None,\n",
       "                                                             random_state=None,\n",
       "                                                             reg_alpha=None,\n",
       "                                                             reg_lambda=None,\n",
       "                                                             scale_pos_weight=None,\n",
       "                                                             subsample=None,\n",
       "                                                             tree_method=None,\n",
       "                                                             validate_parameters=None,\n",
       "                                                             verbosity=None)))])"
      ]
     },
     "execution_count": 43,
     "metadata": {},
     "output_type": "execute_result"
    }
   ],
   "source": [
    "best_estimator"
   ]
  },
  {
   "cell_type": "code",
   "execution_count": 44,
   "metadata": {},
   "outputs": [
    {
     "data": {
      "text/plain": [
       "(240, 3)"
      ]
     },
     "execution_count": 44,
     "metadata": {},
     "output_type": "execute_result"
    }
   ],
   "source": [
    "yhat.shape"
   ]
  },
  {
   "cell_type": "code",
   "execution_count": 45,
   "metadata": {
    "id": "_tuENbk3EQSe"
   },
   "outputs": [],
   "source": [
    "def make_gr(y_test, yhat, n_max=20):\n",
    "    y_test = y_test.to_numpy()\n",
    "    yhat = yhat\n",
    "    \n",
    "    error_d = []\n",
    "\n",
    "    for p,phat in zip(y_test, yhat):\n",
    "        sq_sum = np.sum((p-phat)**2)\n",
    "        error_d.append(np.sqrt(sq_sum))\n",
    "    error_d = np.round(np.array(error_d), 4)\n",
    "    \n",
    "    err_idxs = np.argsort(error_d)[::-1]\n",
    "    \n",
    "#     test_len = len(y_test)\n",
    "\n",
    "    gr_nodes = []\n",
    "    gr_nodes.extend(\n",
    "        [(i, {'coords': tuple(y_test[idx]), 'type': 'r'}) for i,idx in enumerate(err_idxs[:n_max])]) # real\n",
    "    gr_nodes.extend(\n",
    "        [(i+n_max, {'coords': tuple(yhat[idx]), 'type': 'h'})for i,idx in enumerate(err_idxs[:n_max])]) # hypothesis\n",
    "\n",
    "    gr_edges = [(e, e+n_max) for e in range(n_max)]\n",
    "\n",
    "    gr = nx.Graph()\n",
    "    gr.add_nodes_from(gr_nodes)\n",
    "    gr.add_edges_from(gr_edges)\n",
    "\n",
    "    return gr"
   ]
  },
  {
   "cell_type": "code",
   "execution_count": 46,
   "metadata": {
    "colab": {
     "base_uri": "https://localhost:8080/",
     "height": 642
    },
    "id": "hfi7bsXPrNO6",
    "outputId": "d04d03bf-82ee-4859-c7be-83a820344814"
   },
   "outputs": [
    {
     "data": {
      "application/vnd.plotly.v1+json": {
       "config": {
        "plotlyServerURL": "https://plot.ly"
       },
       "data": [
        {
         "hoverinfo": "none",
         "line": {
          "color": "rgba(185, 75, 75, 0.5)",
          "width": 2
         },
         "mode": "lines",
         "type": "scatter3d",
         "x": [
          0,
          0.5,
          0.5,
          0,
          0
         ],
         "y": [
          0,
          0,
          0.5,
          0.5,
          0
         ],
         "z": [
          0,
          0,
          0,
          0,
          0
         ]
        },
        {
         "hoverinfo": "none",
         "line": {
          "color": "rgba(185, 75, 75, 0.5)",
          "width": 2
         },
         "mode": "lines",
         "type": "scatter3d",
         "x": [
          0,
          0.5,
          0.5,
          0,
          0
         ],
         "y": [
          0,
          0,
          0.5,
          0.5,
          0
         ],
         "z": [
          0.5,
          0.5,
          0.5,
          0.5,
          0.5
         ]
        },
        {
         "hoverinfo": "none",
         "line": {
          "color": "rgba(185, 75, 75, 0.5)",
          "width": 2
         },
         "mode": "lines",
         "type": "scatter3d",
         "x": [
          0,
          0
         ],
         "y": [
          0,
          0
         ],
         "z": [
          0,
          0.5
         ]
        },
        {
         "hoverinfo": "none",
         "line": {
          "color": "rgba(185, 75, 75, 0.5)",
          "width": 2
         },
         "mode": "lines",
         "type": "scatter3d",
         "x": [
          0.5,
          0.5
         ],
         "y": [
          0,
          0
         ],
         "z": [
          0,
          0.5
         ]
        },
        {
         "hoverinfo": "none",
         "line": {
          "color": "rgba(185, 75, 75, 0.5)",
          "width": 2
         },
         "mode": "lines",
         "type": "scatter3d",
         "x": [
          0.5,
          0.5
         ],
         "y": [
          0.5,
          0.5
         ],
         "z": [
          0,
          0.5
         ]
        },
        {
         "hoverinfo": "none",
         "line": {
          "color": "rgba(185, 75, 75, 0.5)",
          "width": 2
         },
         "mode": "lines",
         "type": "scatter3d",
         "x": [
          0,
          0
         ],
         "y": [
          0.5,
          0.5
         ],
         "z": [
          0,
          0.5
         ]
        },
        {
         "hoverinfo": "text",
         "marker": {
          "color": [
           1,
           1,
           1,
           1,
           1,
           1,
           1,
           1,
           1,
           1,
           1,
           1,
           1,
           1,
           1,
           1,
           1,
           1,
           1,
           1,
           0,
           0,
           0,
           0,
           0,
           0,
           0,
           0,
           0,
           0,
           0,
           0,
           0,
           0,
           0,
           0,
           0,
           0,
           0,
           0
          ],
          "colorscale": [
           [
            0,
            "lightgreen"
           ],
           [
            1,
            "magenta"
           ]
          ],
          "size": 5,
          "symbol": "circle"
         },
         "mode": "markers",
         "opacity": 0.5,
         "text": [
          "0 (0.08, 0.08, 0.49)",
          "1 (0.39999998, 0.08, 0.01)",
          "2 (0.16, 0.08, 0.12)",
          "3 (0.47999996, 0.08, 0.23)",
          "4 (0.16, 0.47999996, 0.37)",
          "5 (0.24, 0.08, 0.3)",
          "6 (0.47999996, 0.08, 0.08)",
          "7 (0.47999996, 0.47999996, 0.0699999999999999)",
          "8 (0.08, 0.08, 0.35)",
          "9 (0.47999996, 0.16, 0.18)",
          "10 (0.47999996, 0.16, 0.19)",
          "11 (0.47999996, 0.32, 0.46)",
          "12 (0.47999996, 0.39999998, 0.44)",
          "13 (0.16, 0.32, 0.21)",
          "14 (0.39999998, 0.47999996, 0.46)",
          "15 (0.47999996, 0.47999996, 0.14)",
          "16 (0.16, 0.24, 0.01)",
          "17 (0.32, 0.47999996, 0.32)",
          "18 (0.39999998, 0.08, 0.05)",
          "19 (0.08, 0.32, 0.12)",
          "20 (0.36788118, 0.3581416, 0.25810826)",
          "21 (0.36788118, 0.3581416, 0.25810826)",
          "22 (0.36788118, 0.3581416, 0.25810826)",
          "23 (0.23807049, 0.22275548, 0.3875263)",
          "24 (0.36788118, 0.3581416, 0.25810826)",
          "25 (0.31602573, 0.31864065, 0.33224753)",
          "26 (0.2861672, 0.2366399, 0.11043278)",
          "27 (0.36788118, 0.3581416, 0.25810826)",
          "28 (0.20580484, 0.2562989, 0.23217522)",
          "29 (0.36788118, 0.3581416, 0.25810826)",
          "30 (0.36788118, 0.3581416, 0.25810826)",
          "31 (0.36788118, 0.3581416, 0.25810826)",
          "32 (0.36788118, 0.3581416, 0.25810826)",
          "33 (0.33706263, 0.2745871, 0.095976405)",
          "34 (0.42437157, 0.39255568, 0.27111217)",
          "35 (0.36788118, 0.3581416, 0.25810826)",
          "36 (0.3521983, 0.30484784, 0.025460774)",
          "37 (0.4344812, 0.4250365, 0.17468263)",
          "38 (0.35115507, 0.23241735, 0.14046618)",
          "39 (0.0984295, 0.16049556, 0.20288096)"
         ],
         "type": "scatter3d",
         "x": [
          0.08,
          0.39999998,
          0.16,
          0.47999996,
          0.16,
          0.24,
          0.47999996,
          0.47999996,
          0.08,
          0.47999996,
          0.47999996,
          0.47999996,
          0.47999996,
          0.16,
          0.39999998,
          0.47999996,
          0.16,
          0.32,
          0.39999998,
          0.08,
          0.367881178855896,
          0.367881178855896,
          0.367881178855896,
          0.23807048797607422,
          0.367881178855896,
          0.3160257339477539,
          0.2861672043800354,
          0.367881178855896,
          0.20580483973026276,
          0.367881178855896,
          0.367881178855896,
          0.367881178855896,
          0.367881178855896,
          0.33706262707710266,
          0.4243715703487396,
          0.367881178855896,
          0.3521983027458191,
          0.4344812035560608,
          0.3511550724506378,
          0.09842950105667114
         ],
         "y": [
          0.08,
          0.08,
          0.08,
          0.08,
          0.47999996,
          0.08,
          0.08,
          0.47999996,
          0.08,
          0.16,
          0.16,
          0.32,
          0.39999998,
          0.32,
          0.47999996,
          0.47999996,
          0.24,
          0.47999996,
          0.08,
          0.32,
          0.35814160108566284,
          0.35814160108566284,
          0.35814160108566284,
          0.22275547683238983,
          0.35814160108566284,
          0.31864064931869507,
          0.23663990199565887,
          0.35814160108566284,
          0.25629889965057373,
          0.35814160108566284,
          0.35814160108566284,
          0.35814160108566284,
          0.35814160108566284,
          0.27458709478378296,
          0.39255568385124207,
          0.35814160108566284,
          0.3048478364944458,
          0.4250364899635315,
          0.23241734504699707,
          0.1604955643415451
         ],
         "z": [
          0.49,
          0.01,
          0.12,
          0.23,
          0.37,
          0.3,
          0.08,
          0.0699999999999999,
          0.35,
          0.18,
          0.19,
          0.46,
          0.44,
          0.21,
          0.46,
          0.14,
          0.01,
          0.32,
          0.05,
          0.12,
          0.2581082582473755,
          0.2581082582473755,
          0.2581082582473755,
          0.3875263035297394,
          0.2581082582473755,
          0.3322475254535675,
          0.11043278127908707,
          0.2581082582473755,
          0.23217521607875824,
          0.2581082582473755,
          0.2581082582473755,
          0.2581082582473755,
          0.2581082582473755,
          0.09597640484571457,
          0.2711121737957001,
          0.2581082582473755,
          0.025460774078965187,
          0.1746826320886612,
          0.14046618342399597,
          0.20288096368312836
         ]
        },
        {
         "hoverinfo": "none",
         "line": {
          "color": "rgba(74, 54, 54, 1)",
          "width": 2
         },
         "mode": "lines",
         "type": "scatter3d",
         "x": [
          0.08,
          0.367881178855896,
          null,
          0.39999998,
          0.367881178855896,
          null,
          0.16,
          0.367881178855896,
          null,
          0.47999996,
          0.23807048797607422,
          null,
          0.16,
          0.367881178855896,
          null,
          0.24,
          0.3160257339477539,
          null,
          0.47999996,
          0.2861672043800354,
          null,
          0.47999996,
          0.367881178855896,
          null,
          0.08,
          0.20580483973026276,
          null,
          0.47999996,
          0.367881178855896,
          null,
          0.47999996,
          0.367881178855896,
          null,
          0.47999996,
          0.367881178855896,
          null,
          0.47999996,
          0.367881178855896,
          null,
          0.16,
          0.33706262707710266,
          null,
          0.39999998,
          0.4243715703487396,
          null,
          0.47999996,
          0.367881178855896,
          null,
          0.16,
          0.3521983027458191,
          null,
          0.32,
          0.4344812035560608,
          null,
          0.39999998,
          0.3511550724506378,
          null,
          0.08,
          0.09842950105667114,
          null
         ],
         "y": [
          0.08,
          0.35814160108566284,
          null,
          0.08,
          0.35814160108566284,
          null,
          0.08,
          0.35814160108566284,
          null,
          0.08,
          0.22275547683238983,
          null,
          0.47999996,
          0.35814160108566284,
          null,
          0.08,
          0.31864064931869507,
          null,
          0.08,
          0.23663990199565887,
          null,
          0.47999996,
          0.35814160108566284,
          null,
          0.08,
          0.25629889965057373,
          null,
          0.16,
          0.35814160108566284,
          null,
          0.16,
          0.35814160108566284,
          null,
          0.32,
          0.35814160108566284,
          null,
          0.39999998,
          0.35814160108566284,
          null,
          0.32,
          0.27458709478378296,
          null,
          0.47999996,
          0.39255568385124207,
          null,
          0.47999996,
          0.35814160108566284,
          null,
          0.24,
          0.3048478364944458,
          null,
          0.47999996,
          0.4250364899635315,
          null,
          0.08,
          0.23241734504699707,
          null,
          0.32,
          0.1604955643415451,
          null
         ],
         "z": [
          0.49,
          0.2581082582473755,
          null,
          0.01,
          0.2581082582473755,
          null,
          0.12,
          0.2581082582473755,
          null,
          0.23,
          0.3875263035297394,
          null,
          0.37,
          0.2581082582473755,
          null,
          0.3,
          0.3322475254535675,
          null,
          0.08,
          0.11043278127908707,
          null,
          0.0699999999999999,
          0.2581082582473755,
          null,
          0.35,
          0.23217521607875824,
          null,
          0.18,
          0.2581082582473755,
          null,
          0.19,
          0.2581082582473755,
          null,
          0.46,
          0.2581082582473755,
          null,
          0.44,
          0.2581082582473755,
          null,
          0.21,
          0.09597640484571457,
          null,
          0.46,
          0.2711121737957001,
          null,
          0.14,
          0.2581082582473755,
          null,
          0.01,
          0.025460774078965187,
          null,
          0.32,
          0.1746826320886612,
          null,
          0.05,
          0.14046618342399597,
          null,
          0.12,
          0.20288096368312836,
          null
         ]
        }
       ],
       "layout": {
        "height": 625,
        "hovermode": "closest",
        "margin": {
         "t": 100
        },
        "scene": {
         "xaxis": {
          "showbackground": false,
          "showgrid": false,
          "showline": false,
          "showticklabels": false,
          "title": {
           "text": ""
          },
          "zeroline": false
         },
         "yaxis": {
          "showbackground": false,
          "showgrid": false,
          "showline": false,
          "showticklabels": false,
          "title": {
           "text": ""
          },
          "zeroline": false
         },
         "zaxis": {
          "showbackground": false,
          "showgrid": false,
          "showline": false,
          "showticklabels": false,
          "title": {
           "text": ""
          },
          "zeroline": false
         }
        },
        "showlegend": false,
        "template": {
         "data": {
          "bar": [
           {
            "error_x": {
             "color": "#2a3f5f"
            },
            "error_y": {
             "color": "#2a3f5f"
            },
            "marker": {
             "line": {
              "color": "#E5ECF6",
              "width": 0.5
             },
             "pattern": {
              "fillmode": "overlay",
              "size": 10,
              "solidity": 0.2
             }
            },
            "type": "bar"
           }
          ],
          "barpolar": [
           {
            "marker": {
             "line": {
              "color": "#E5ECF6",
              "width": 0.5
             },
             "pattern": {
              "fillmode": "overlay",
              "size": 10,
              "solidity": 0.2
             }
            },
            "type": "barpolar"
           }
          ],
          "carpet": [
           {
            "aaxis": {
             "endlinecolor": "#2a3f5f",
             "gridcolor": "white",
             "linecolor": "white",
             "minorgridcolor": "white",
             "startlinecolor": "#2a3f5f"
            },
            "baxis": {
             "endlinecolor": "#2a3f5f",
             "gridcolor": "white",
             "linecolor": "white",
             "minorgridcolor": "white",
             "startlinecolor": "#2a3f5f"
            },
            "type": "carpet"
           }
          ],
          "choropleth": [
           {
            "colorbar": {
             "outlinewidth": 0,
             "ticks": ""
            },
            "type": "choropleth"
           }
          ],
          "contour": [
           {
            "colorbar": {
             "outlinewidth": 0,
             "ticks": ""
            },
            "colorscale": [
             [
              0,
              "#0d0887"
             ],
             [
              0.1111111111111111,
              "#46039f"
             ],
             [
              0.2222222222222222,
              "#7201a8"
             ],
             [
              0.3333333333333333,
              "#9c179e"
             ],
             [
              0.4444444444444444,
              "#bd3786"
             ],
             [
              0.5555555555555556,
              "#d8576b"
             ],
             [
              0.6666666666666666,
              "#ed7953"
             ],
             [
              0.7777777777777778,
              "#fb9f3a"
             ],
             [
              0.8888888888888888,
              "#fdca26"
             ],
             [
              1,
              "#f0f921"
             ]
            ],
            "type": "contour"
           }
          ],
          "contourcarpet": [
           {
            "colorbar": {
             "outlinewidth": 0,
             "ticks": ""
            },
            "type": "contourcarpet"
           }
          ],
          "heatmap": [
           {
            "colorbar": {
             "outlinewidth": 0,
             "ticks": ""
            },
            "colorscale": [
             [
              0,
              "#0d0887"
             ],
             [
              0.1111111111111111,
              "#46039f"
             ],
             [
              0.2222222222222222,
              "#7201a8"
             ],
             [
              0.3333333333333333,
              "#9c179e"
             ],
             [
              0.4444444444444444,
              "#bd3786"
             ],
             [
              0.5555555555555556,
              "#d8576b"
             ],
             [
              0.6666666666666666,
              "#ed7953"
             ],
             [
              0.7777777777777778,
              "#fb9f3a"
             ],
             [
              0.8888888888888888,
              "#fdca26"
             ],
             [
              1,
              "#f0f921"
             ]
            ],
            "type": "heatmap"
           }
          ],
          "heatmapgl": [
           {
            "colorbar": {
             "outlinewidth": 0,
             "ticks": ""
            },
            "colorscale": [
             [
              0,
              "#0d0887"
             ],
             [
              0.1111111111111111,
              "#46039f"
             ],
             [
              0.2222222222222222,
              "#7201a8"
             ],
             [
              0.3333333333333333,
              "#9c179e"
             ],
             [
              0.4444444444444444,
              "#bd3786"
             ],
             [
              0.5555555555555556,
              "#d8576b"
             ],
             [
              0.6666666666666666,
              "#ed7953"
             ],
             [
              0.7777777777777778,
              "#fb9f3a"
             ],
             [
              0.8888888888888888,
              "#fdca26"
             ],
             [
              1,
              "#f0f921"
             ]
            ],
            "type": "heatmapgl"
           }
          ],
          "histogram": [
           {
            "marker": {
             "pattern": {
              "fillmode": "overlay",
              "size": 10,
              "solidity": 0.2
             }
            },
            "type": "histogram"
           }
          ],
          "histogram2d": [
           {
            "colorbar": {
             "outlinewidth": 0,
             "ticks": ""
            },
            "colorscale": [
             [
              0,
              "#0d0887"
             ],
             [
              0.1111111111111111,
              "#46039f"
             ],
             [
              0.2222222222222222,
              "#7201a8"
             ],
             [
              0.3333333333333333,
              "#9c179e"
             ],
             [
              0.4444444444444444,
              "#bd3786"
             ],
             [
              0.5555555555555556,
              "#d8576b"
             ],
             [
              0.6666666666666666,
              "#ed7953"
             ],
             [
              0.7777777777777778,
              "#fb9f3a"
             ],
             [
              0.8888888888888888,
              "#fdca26"
             ],
             [
              1,
              "#f0f921"
             ]
            ],
            "type": "histogram2d"
           }
          ],
          "histogram2dcontour": [
           {
            "colorbar": {
             "outlinewidth": 0,
             "ticks": ""
            },
            "colorscale": [
             [
              0,
              "#0d0887"
             ],
             [
              0.1111111111111111,
              "#46039f"
             ],
             [
              0.2222222222222222,
              "#7201a8"
             ],
             [
              0.3333333333333333,
              "#9c179e"
             ],
             [
              0.4444444444444444,
              "#bd3786"
             ],
             [
              0.5555555555555556,
              "#d8576b"
             ],
             [
              0.6666666666666666,
              "#ed7953"
             ],
             [
              0.7777777777777778,
              "#fb9f3a"
             ],
             [
              0.8888888888888888,
              "#fdca26"
             ],
             [
              1,
              "#f0f921"
             ]
            ],
            "type": "histogram2dcontour"
           }
          ],
          "mesh3d": [
           {
            "colorbar": {
             "outlinewidth": 0,
             "ticks": ""
            },
            "type": "mesh3d"
           }
          ],
          "parcoords": [
           {
            "line": {
             "colorbar": {
              "outlinewidth": 0,
              "ticks": ""
             }
            },
            "type": "parcoords"
           }
          ],
          "pie": [
           {
            "automargin": true,
            "type": "pie"
           }
          ],
          "scatter": [
           {
            "marker": {
             "colorbar": {
              "outlinewidth": 0,
              "ticks": ""
             }
            },
            "type": "scatter"
           }
          ],
          "scatter3d": [
           {
            "line": {
             "colorbar": {
              "outlinewidth": 0,
              "ticks": ""
             }
            },
            "marker": {
             "colorbar": {
              "outlinewidth": 0,
              "ticks": ""
             }
            },
            "type": "scatter3d"
           }
          ],
          "scattercarpet": [
           {
            "marker": {
             "colorbar": {
              "outlinewidth": 0,
              "ticks": ""
             }
            },
            "type": "scattercarpet"
           }
          ],
          "scattergeo": [
           {
            "marker": {
             "colorbar": {
              "outlinewidth": 0,
              "ticks": ""
             }
            },
            "type": "scattergeo"
           }
          ],
          "scattergl": [
           {
            "marker": {
             "colorbar": {
              "outlinewidth": 0,
              "ticks": ""
             }
            },
            "type": "scattergl"
           }
          ],
          "scattermapbox": [
           {
            "marker": {
             "colorbar": {
              "outlinewidth": 0,
              "ticks": ""
             }
            },
            "type": "scattermapbox"
           }
          ],
          "scatterpolar": [
           {
            "marker": {
             "colorbar": {
              "outlinewidth": 0,
              "ticks": ""
             }
            },
            "type": "scatterpolar"
           }
          ],
          "scatterpolargl": [
           {
            "marker": {
             "colorbar": {
              "outlinewidth": 0,
              "ticks": ""
             }
            },
            "type": "scatterpolargl"
           }
          ],
          "scatterternary": [
           {
            "marker": {
             "colorbar": {
              "outlinewidth": 0,
              "ticks": ""
             }
            },
            "type": "scatterternary"
           }
          ],
          "surface": [
           {
            "colorbar": {
             "outlinewidth": 0,
             "ticks": ""
            },
            "colorscale": [
             [
              0,
              "#0d0887"
             ],
             [
              0.1111111111111111,
              "#46039f"
             ],
             [
              0.2222222222222222,
              "#7201a8"
             ],
             [
              0.3333333333333333,
              "#9c179e"
             ],
             [
              0.4444444444444444,
              "#bd3786"
             ],
             [
              0.5555555555555556,
              "#d8576b"
             ],
             [
              0.6666666666666666,
              "#ed7953"
             ],
             [
              0.7777777777777778,
              "#fb9f3a"
             ],
             [
              0.8888888888888888,
              "#fdca26"
             ],
             [
              1,
              "#f0f921"
             ]
            ],
            "type": "surface"
           }
          ],
          "table": [
           {
            "cells": {
             "fill": {
              "color": "#EBF0F8"
             },
             "line": {
              "color": "white"
             }
            },
            "header": {
             "fill": {
              "color": "#C8D4E3"
             },
             "line": {
              "color": "white"
             }
            },
            "type": "table"
           }
          ]
         },
         "layout": {
          "annotationdefaults": {
           "arrowcolor": "#2a3f5f",
           "arrowhead": 0,
           "arrowwidth": 1
          },
          "autotypenumbers": "strict",
          "coloraxis": {
           "colorbar": {
            "outlinewidth": 0,
            "ticks": ""
           }
          },
          "colorscale": {
           "diverging": [
            [
             0,
             "#8e0152"
            ],
            [
             0.1,
             "#c51b7d"
            ],
            [
             0.2,
             "#de77ae"
            ],
            [
             0.3,
             "#f1b6da"
            ],
            [
             0.4,
             "#fde0ef"
            ],
            [
             0.5,
             "#f7f7f7"
            ],
            [
             0.6,
             "#e6f5d0"
            ],
            [
             0.7,
             "#b8e186"
            ],
            [
             0.8,
             "#7fbc41"
            ],
            [
             0.9,
             "#4d9221"
            ],
            [
             1,
             "#276419"
            ]
           ],
           "sequential": [
            [
             0,
             "#0d0887"
            ],
            [
             0.1111111111111111,
             "#46039f"
            ],
            [
             0.2222222222222222,
             "#7201a8"
            ],
            [
             0.3333333333333333,
             "#9c179e"
            ],
            [
             0.4444444444444444,
             "#bd3786"
            ],
            [
             0.5555555555555556,
             "#d8576b"
            ],
            [
             0.6666666666666666,
             "#ed7953"
            ],
            [
             0.7777777777777778,
             "#fb9f3a"
            ],
            [
             0.8888888888888888,
             "#fdca26"
            ],
            [
             1,
             "#f0f921"
            ]
           ],
           "sequentialminus": [
            [
             0,
             "#0d0887"
            ],
            [
             0.1111111111111111,
             "#46039f"
            ],
            [
             0.2222222222222222,
             "#7201a8"
            ],
            [
             0.3333333333333333,
             "#9c179e"
            ],
            [
             0.4444444444444444,
             "#bd3786"
            ],
            [
             0.5555555555555556,
             "#d8576b"
            ],
            [
             0.6666666666666666,
             "#ed7953"
            ],
            [
             0.7777777777777778,
             "#fb9f3a"
            ],
            [
             0.8888888888888888,
             "#fdca26"
            ],
            [
             1,
             "#f0f921"
            ]
           ]
          },
          "colorway": [
           "#636efa",
           "#EF553B",
           "#00cc96",
           "#ab63fa",
           "#FFA15A",
           "#19d3f3",
           "#FF6692",
           "#B6E880",
           "#FF97FF",
           "#FECB52"
          ],
          "font": {
           "color": "#2a3f5f"
          },
          "geo": {
           "bgcolor": "white",
           "lakecolor": "white",
           "landcolor": "#E5ECF6",
           "showlakes": true,
           "showland": true,
           "subunitcolor": "white"
          },
          "hoverlabel": {
           "align": "left"
          },
          "hovermode": "closest",
          "mapbox": {
           "style": "light"
          },
          "paper_bgcolor": "white",
          "plot_bgcolor": "#E5ECF6",
          "polar": {
           "angularaxis": {
            "gridcolor": "white",
            "linecolor": "white",
            "ticks": ""
           },
           "bgcolor": "#E5ECF6",
           "radialaxis": {
            "gridcolor": "white",
            "linecolor": "white",
            "ticks": ""
           }
          },
          "scene": {
           "xaxis": {
            "backgroundcolor": "#E5ECF6",
            "gridcolor": "white",
            "gridwidth": 2,
            "linecolor": "white",
            "showbackground": true,
            "ticks": "",
            "zerolinecolor": "white"
           },
           "yaxis": {
            "backgroundcolor": "#E5ECF6",
            "gridcolor": "white",
            "gridwidth": 2,
            "linecolor": "white",
            "showbackground": true,
            "ticks": "",
            "zerolinecolor": "white"
           },
           "zaxis": {
            "backgroundcolor": "#E5ECF6",
            "gridcolor": "white",
            "gridwidth": 2,
            "linecolor": "white",
            "showbackground": true,
            "ticks": "",
            "zerolinecolor": "white"
           }
          },
          "shapedefaults": {
           "line": {
            "color": "#2a3f5f"
           }
          },
          "ternary": {
           "aaxis": {
            "gridcolor": "white",
            "linecolor": "white",
            "ticks": ""
           },
           "baxis": {
            "gridcolor": "white",
            "linecolor": "white",
            "ticks": ""
           },
           "bgcolor": "#E5ECF6",
           "caxis": {
            "gridcolor": "white",
            "linecolor": "white",
            "ticks": ""
           }
          },
          "title": {
           "x": 0.05
          },
          "xaxis": {
           "automargin": true,
           "gridcolor": "white",
           "linecolor": "white",
           "ticks": "",
           "title": {
            "standoff": 15
           },
           "zerolinecolor": "white",
           "zerolinewidth": 2
          },
          "yaxis": {
           "automargin": true,
           "gridcolor": "white",
           "linecolor": "white",
           "ticks": "",
           "title": {
            "standoff": 15
           },
           "zerolinecolor": "white",
           "zerolinewidth": 2
          }
         }
        },
        "title": {
         "text": "3D grid circuit"
        },
        "width": 650
       }
      },
      "text/html": [
       "<div>                            <div id=\"0302cb95-52b5-4bb4-a207-5200bda43000\" class=\"plotly-graph-div\" style=\"height:625px; width:650px;\"></div>            <script type=\"text/javascript\">                require([\"plotly\"], function(Plotly) {                    window.PLOTLYENV=window.PLOTLYENV || {};                                    if (document.getElementById(\"0302cb95-52b5-4bb4-a207-5200bda43000\")) {                    Plotly.newPlot(                        \"0302cb95-52b5-4bb4-a207-5200bda43000\",                        [{\"hoverinfo\":\"none\",\"line\":{\"color\":\"rgba(185, 75, 75, 0.5)\",\"width\":2},\"mode\":\"lines\",\"x\":[0,0.5,0.5,0,0],\"y\":[0,0,0.5,0.5,0],\"z\":[0,0,0,0,0],\"type\":\"scatter3d\"},{\"hoverinfo\":\"none\",\"line\":{\"color\":\"rgba(185, 75, 75, 0.5)\",\"width\":2},\"mode\":\"lines\",\"x\":[0,0.5,0.5,0,0],\"y\":[0,0,0.5,0.5,0],\"z\":[0.5,0.5,0.5,0.5,0.5],\"type\":\"scatter3d\"},{\"hoverinfo\":\"none\",\"line\":{\"color\":\"rgba(185, 75, 75, 0.5)\",\"width\":2},\"mode\":\"lines\",\"x\":[0,0],\"y\":[0,0],\"z\":[0,0.5],\"type\":\"scatter3d\"},{\"hoverinfo\":\"none\",\"line\":{\"color\":\"rgba(185, 75, 75, 0.5)\",\"width\":2},\"mode\":\"lines\",\"x\":[0.5,0.5],\"y\":[0,0],\"z\":[0,0.5],\"type\":\"scatter3d\"},{\"hoverinfo\":\"none\",\"line\":{\"color\":\"rgba(185, 75, 75, 0.5)\",\"width\":2},\"mode\":\"lines\",\"x\":[0.5,0.5],\"y\":[0.5,0.5],\"z\":[0,0.5],\"type\":\"scatter3d\"},{\"hoverinfo\":\"none\",\"line\":{\"color\":\"rgba(185, 75, 75, 0.5)\",\"width\":2},\"mode\":\"lines\",\"x\":[0,0],\"y\":[0.5,0.5],\"z\":[0,0.5],\"type\":\"scatter3d\"},{\"hoverinfo\":\"text\",\"marker\":{\"color\":[1,1,1,1,1,1,1,1,1,1,1,1,1,1,1,1,1,1,1,1,0,0,0,0,0,0,0,0,0,0,0,0,0,0,0,0,0,0,0,0],\"colorscale\":[[0.0,\"lightgreen\"],[1.0,\"magenta\"]],\"size\":5,\"symbol\":\"circle\"},\"mode\":\"markers\",\"opacity\":0.5,\"text\":[\"0 (0.08, 0.08, 0.49)\",\"1 (0.39999998, 0.08, 0.01)\",\"2 (0.16, 0.08, 0.12)\",\"3 (0.47999996, 0.08, 0.23)\",\"4 (0.16, 0.47999996, 0.37)\",\"5 (0.24, 0.08, 0.3)\",\"6 (0.47999996, 0.08, 0.08)\",\"7 (0.47999996, 0.47999996, 0.0699999999999999)\",\"8 (0.08, 0.08, 0.35)\",\"9 (0.47999996, 0.16, 0.18)\",\"10 (0.47999996, 0.16, 0.19)\",\"11 (0.47999996, 0.32, 0.46)\",\"12 (0.47999996, 0.39999998, 0.44)\",\"13 (0.16, 0.32, 0.21)\",\"14 (0.39999998, 0.47999996, 0.46)\",\"15 (0.47999996, 0.47999996, 0.14)\",\"16 (0.16, 0.24, 0.01)\",\"17 (0.32, 0.47999996, 0.32)\",\"18 (0.39999998, 0.08, 0.05)\",\"19 (0.08, 0.32, 0.12)\",\"20 (0.36788118, 0.3581416, 0.25810826)\",\"21 (0.36788118, 0.3581416, 0.25810826)\",\"22 (0.36788118, 0.3581416, 0.25810826)\",\"23 (0.23807049, 0.22275548, 0.3875263)\",\"24 (0.36788118, 0.3581416, 0.25810826)\",\"25 (0.31602573, 0.31864065, 0.33224753)\",\"26 (0.2861672, 0.2366399, 0.11043278)\",\"27 (0.36788118, 0.3581416, 0.25810826)\",\"28 (0.20580484, 0.2562989, 0.23217522)\",\"29 (0.36788118, 0.3581416, 0.25810826)\",\"30 (0.36788118, 0.3581416, 0.25810826)\",\"31 (0.36788118, 0.3581416, 0.25810826)\",\"32 (0.36788118, 0.3581416, 0.25810826)\",\"33 (0.33706263, 0.2745871, 0.095976405)\",\"34 (0.42437157, 0.39255568, 0.27111217)\",\"35 (0.36788118, 0.3581416, 0.25810826)\",\"36 (0.3521983, 0.30484784, 0.025460774)\",\"37 (0.4344812, 0.4250365, 0.17468263)\",\"38 (0.35115507, 0.23241735, 0.14046618)\",\"39 (0.0984295, 0.16049556, 0.20288096)\"],\"x\":[0.08,0.39999998,0.16,0.47999996,0.16,0.24,0.47999996,0.47999996,0.08,0.47999996,0.47999996,0.47999996,0.47999996,0.16,0.39999998,0.47999996,0.16,0.32,0.39999998,0.08,0.367881178855896,0.367881178855896,0.367881178855896,0.23807048797607422,0.367881178855896,0.3160257339477539,0.2861672043800354,0.367881178855896,0.20580483973026276,0.367881178855896,0.367881178855896,0.367881178855896,0.367881178855896,0.33706262707710266,0.4243715703487396,0.367881178855896,0.3521983027458191,0.4344812035560608,0.3511550724506378,0.09842950105667114],\"y\":[0.08,0.08,0.08,0.08,0.47999996,0.08,0.08,0.47999996,0.08,0.16,0.16,0.32,0.39999998,0.32,0.47999996,0.47999996,0.24,0.47999996,0.08,0.32,0.35814160108566284,0.35814160108566284,0.35814160108566284,0.22275547683238983,0.35814160108566284,0.31864064931869507,0.23663990199565887,0.35814160108566284,0.25629889965057373,0.35814160108566284,0.35814160108566284,0.35814160108566284,0.35814160108566284,0.27458709478378296,0.39255568385124207,0.35814160108566284,0.3048478364944458,0.4250364899635315,0.23241734504699707,0.1604955643415451],\"z\":[0.49,0.01,0.12,0.23,0.37,0.3,0.08,0.0699999999999999,0.35,0.18,0.19,0.46,0.44,0.21,0.46,0.14,0.01,0.32,0.05,0.12,0.2581082582473755,0.2581082582473755,0.2581082582473755,0.3875263035297394,0.2581082582473755,0.3322475254535675,0.11043278127908707,0.2581082582473755,0.23217521607875824,0.2581082582473755,0.2581082582473755,0.2581082582473755,0.2581082582473755,0.09597640484571457,0.2711121737957001,0.2581082582473755,0.025460774078965187,0.1746826320886612,0.14046618342399597,0.20288096368312836],\"type\":\"scatter3d\"},{\"hoverinfo\":\"none\",\"line\":{\"color\":\"rgba(74, 54, 54, 1)\",\"width\":2},\"mode\":\"lines\",\"x\":[0.08,0.367881178855896,null,0.39999998,0.367881178855896,null,0.16,0.367881178855896,null,0.47999996,0.23807048797607422,null,0.16,0.367881178855896,null,0.24,0.3160257339477539,null,0.47999996,0.2861672043800354,null,0.47999996,0.367881178855896,null,0.08,0.20580483973026276,null,0.47999996,0.367881178855896,null,0.47999996,0.367881178855896,null,0.47999996,0.367881178855896,null,0.47999996,0.367881178855896,null,0.16,0.33706262707710266,null,0.39999998,0.4243715703487396,null,0.47999996,0.367881178855896,null,0.16,0.3521983027458191,null,0.32,0.4344812035560608,null,0.39999998,0.3511550724506378,null,0.08,0.09842950105667114,null],\"y\":[0.08,0.35814160108566284,null,0.08,0.35814160108566284,null,0.08,0.35814160108566284,null,0.08,0.22275547683238983,null,0.47999996,0.35814160108566284,null,0.08,0.31864064931869507,null,0.08,0.23663990199565887,null,0.47999996,0.35814160108566284,null,0.08,0.25629889965057373,null,0.16,0.35814160108566284,null,0.16,0.35814160108566284,null,0.32,0.35814160108566284,null,0.39999998,0.35814160108566284,null,0.32,0.27458709478378296,null,0.47999996,0.39255568385124207,null,0.47999996,0.35814160108566284,null,0.24,0.3048478364944458,null,0.47999996,0.4250364899635315,null,0.08,0.23241734504699707,null,0.32,0.1604955643415451,null],\"z\":[0.49,0.2581082582473755,null,0.01,0.2581082582473755,null,0.12,0.2581082582473755,null,0.23,0.3875263035297394,null,0.37,0.2581082582473755,null,0.3,0.3322475254535675,null,0.08,0.11043278127908707,null,0.0699999999999999,0.2581082582473755,null,0.35,0.23217521607875824,null,0.18,0.2581082582473755,null,0.19,0.2581082582473755,null,0.46,0.2581082582473755,null,0.44,0.2581082582473755,null,0.21,0.09597640484571457,null,0.46,0.2711121737957001,null,0.14,0.2581082582473755,null,0.01,0.025460774078965187,null,0.32,0.1746826320886612,null,0.05,0.14046618342399597,null,0.12,0.20288096368312836,null],\"type\":\"scatter3d\"}],                        {\"height\":625,\"hovermode\":\"closest\",\"margin\":{\"t\":100},\"scene\":{\"xaxis\":{\"showbackground\":false,\"showgrid\":false,\"showline\":false,\"showticklabels\":false,\"title\":{\"text\":\"\"},\"zeroline\":false},\"yaxis\":{\"showbackground\":false,\"showgrid\":false,\"showline\":false,\"showticklabels\":false,\"title\":{\"text\":\"\"},\"zeroline\":false},\"zaxis\":{\"showbackground\":false,\"showgrid\":false,\"showline\":false,\"showticklabels\":false,\"title\":{\"text\":\"\"},\"zeroline\":false}},\"showlegend\":false,\"title\":{\"text\":\"3D grid circuit\"},\"width\":650,\"template\":{\"data\":{\"bar\":[{\"error_x\":{\"color\":\"#2a3f5f\"},\"error_y\":{\"color\":\"#2a3f5f\"},\"marker\":{\"line\":{\"color\":\"#E5ECF6\",\"width\":0.5},\"pattern\":{\"fillmode\":\"overlay\",\"size\":10,\"solidity\":0.2}},\"type\":\"bar\"}],\"barpolar\":[{\"marker\":{\"line\":{\"color\":\"#E5ECF6\",\"width\":0.5},\"pattern\":{\"fillmode\":\"overlay\",\"size\":10,\"solidity\":0.2}},\"type\":\"barpolar\"}],\"carpet\":[{\"aaxis\":{\"endlinecolor\":\"#2a3f5f\",\"gridcolor\":\"white\",\"linecolor\":\"white\",\"minorgridcolor\":\"white\",\"startlinecolor\":\"#2a3f5f\"},\"baxis\":{\"endlinecolor\":\"#2a3f5f\",\"gridcolor\":\"white\",\"linecolor\":\"white\",\"minorgridcolor\":\"white\",\"startlinecolor\":\"#2a3f5f\"},\"type\":\"carpet\"}],\"choropleth\":[{\"colorbar\":{\"outlinewidth\":0,\"ticks\":\"\"},\"type\":\"choropleth\"}],\"contour\":[{\"colorbar\":{\"outlinewidth\":0,\"ticks\":\"\"},\"colorscale\":[[0.0,\"#0d0887\"],[0.1111111111111111,\"#46039f\"],[0.2222222222222222,\"#7201a8\"],[0.3333333333333333,\"#9c179e\"],[0.4444444444444444,\"#bd3786\"],[0.5555555555555556,\"#d8576b\"],[0.6666666666666666,\"#ed7953\"],[0.7777777777777778,\"#fb9f3a\"],[0.8888888888888888,\"#fdca26\"],[1.0,\"#f0f921\"]],\"type\":\"contour\"}],\"contourcarpet\":[{\"colorbar\":{\"outlinewidth\":0,\"ticks\":\"\"},\"type\":\"contourcarpet\"}],\"heatmap\":[{\"colorbar\":{\"outlinewidth\":0,\"ticks\":\"\"},\"colorscale\":[[0.0,\"#0d0887\"],[0.1111111111111111,\"#46039f\"],[0.2222222222222222,\"#7201a8\"],[0.3333333333333333,\"#9c179e\"],[0.4444444444444444,\"#bd3786\"],[0.5555555555555556,\"#d8576b\"],[0.6666666666666666,\"#ed7953\"],[0.7777777777777778,\"#fb9f3a\"],[0.8888888888888888,\"#fdca26\"],[1.0,\"#f0f921\"]],\"type\":\"heatmap\"}],\"heatmapgl\":[{\"colorbar\":{\"outlinewidth\":0,\"ticks\":\"\"},\"colorscale\":[[0.0,\"#0d0887\"],[0.1111111111111111,\"#46039f\"],[0.2222222222222222,\"#7201a8\"],[0.3333333333333333,\"#9c179e\"],[0.4444444444444444,\"#bd3786\"],[0.5555555555555556,\"#d8576b\"],[0.6666666666666666,\"#ed7953\"],[0.7777777777777778,\"#fb9f3a\"],[0.8888888888888888,\"#fdca26\"],[1.0,\"#f0f921\"]],\"type\":\"heatmapgl\"}],\"histogram\":[{\"marker\":{\"pattern\":{\"fillmode\":\"overlay\",\"size\":10,\"solidity\":0.2}},\"type\":\"histogram\"}],\"histogram2d\":[{\"colorbar\":{\"outlinewidth\":0,\"ticks\":\"\"},\"colorscale\":[[0.0,\"#0d0887\"],[0.1111111111111111,\"#46039f\"],[0.2222222222222222,\"#7201a8\"],[0.3333333333333333,\"#9c179e\"],[0.4444444444444444,\"#bd3786\"],[0.5555555555555556,\"#d8576b\"],[0.6666666666666666,\"#ed7953\"],[0.7777777777777778,\"#fb9f3a\"],[0.8888888888888888,\"#fdca26\"],[1.0,\"#f0f921\"]],\"type\":\"histogram2d\"}],\"histogram2dcontour\":[{\"colorbar\":{\"outlinewidth\":0,\"ticks\":\"\"},\"colorscale\":[[0.0,\"#0d0887\"],[0.1111111111111111,\"#46039f\"],[0.2222222222222222,\"#7201a8\"],[0.3333333333333333,\"#9c179e\"],[0.4444444444444444,\"#bd3786\"],[0.5555555555555556,\"#d8576b\"],[0.6666666666666666,\"#ed7953\"],[0.7777777777777778,\"#fb9f3a\"],[0.8888888888888888,\"#fdca26\"],[1.0,\"#f0f921\"]],\"type\":\"histogram2dcontour\"}],\"mesh3d\":[{\"colorbar\":{\"outlinewidth\":0,\"ticks\":\"\"},\"type\":\"mesh3d\"}],\"parcoords\":[{\"line\":{\"colorbar\":{\"outlinewidth\":0,\"ticks\":\"\"}},\"type\":\"parcoords\"}],\"pie\":[{\"automargin\":true,\"type\":\"pie\"}],\"scatter\":[{\"marker\":{\"colorbar\":{\"outlinewidth\":0,\"ticks\":\"\"}},\"type\":\"scatter\"}],\"scatter3d\":[{\"line\":{\"colorbar\":{\"outlinewidth\":0,\"ticks\":\"\"}},\"marker\":{\"colorbar\":{\"outlinewidth\":0,\"ticks\":\"\"}},\"type\":\"scatter3d\"}],\"scattercarpet\":[{\"marker\":{\"colorbar\":{\"outlinewidth\":0,\"ticks\":\"\"}},\"type\":\"scattercarpet\"}],\"scattergeo\":[{\"marker\":{\"colorbar\":{\"outlinewidth\":0,\"ticks\":\"\"}},\"type\":\"scattergeo\"}],\"scattergl\":[{\"marker\":{\"colorbar\":{\"outlinewidth\":0,\"ticks\":\"\"}},\"type\":\"scattergl\"}],\"scattermapbox\":[{\"marker\":{\"colorbar\":{\"outlinewidth\":0,\"ticks\":\"\"}},\"type\":\"scattermapbox\"}],\"scatterpolar\":[{\"marker\":{\"colorbar\":{\"outlinewidth\":0,\"ticks\":\"\"}},\"type\":\"scatterpolar\"}],\"scatterpolargl\":[{\"marker\":{\"colorbar\":{\"outlinewidth\":0,\"ticks\":\"\"}},\"type\":\"scatterpolargl\"}],\"scatterternary\":[{\"marker\":{\"colorbar\":{\"outlinewidth\":0,\"ticks\":\"\"}},\"type\":\"scatterternary\"}],\"surface\":[{\"colorbar\":{\"outlinewidth\":0,\"ticks\":\"\"},\"colorscale\":[[0.0,\"#0d0887\"],[0.1111111111111111,\"#46039f\"],[0.2222222222222222,\"#7201a8\"],[0.3333333333333333,\"#9c179e\"],[0.4444444444444444,\"#bd3786\"],[0.5555555555555556,\"#d8576b\"],[0.6666666666666666,\"#ed7953\"],[0.7777777777777778,\"#fb9f3a\"],[0.8888888888888888,\"#fdca26\"],[1.0,\"#f0f921\"]],\"type\":\"surface\"}],\"table\":[{\"cells\":{\"fill\":{\"color\":\"#EBF0F8\"},\"line\":{\"color\":\"white\"}},\"header\":{\"fill\":{\"color\":\"#C8D4E3\"},\"line\":{\"color\":\"white\"}},\"type\":\"table\"}]},\"layout\":{\"annotationdefaults\":{\"arrowcolor\":\"#2a3f5f\",\"arrowhead\":0,\"arrowwidth\":1},\"autotypenumbers\":\"strict\",\"coloraxis\":{\"colorbar\":{\"outlinewidth\":0,\"ticks\":\"\"}},\"colorscale\":{\"diverging\":[[0,\"#8e0152\"],[0.1,\"#c51b7d\"],[0.2,\"#de77ae\"],[0.3,\"#f1b6da\"],[0.4,\"#fde0ef\"],[0.5,\"#f7f7f7\"],[0.6,\"#e6f5d0\"],[0.7,\"#b8e186\"],[0.8,\"#7fbc41\"],[0.9,\"#4d9221\"],[1,\"#276419\"]],\"sequential\":[[0.0,\"#0d0887\"],[0.1111111111111111,\"#46039f\"],[0.2222222222222222,\"#7201a8\"],[0.3333333333333333,\"#9c179e\"],[0.4444444444444444,\"#bd3786\"],[0.5555555555555556,\"#d8576b\"],[0.6666666666666666,\"#ed7953\"],[0.7777777777777778,\"#fb9f3a\"],[0.8888888888888888,\"#fdca26\"],[1.0,\"#f0f921\"]],\"sequentialminus\":[[0.0,\"#0d0887\"],[0.1111111111111111,\"#46039f\"],[0.2222222222222222,\"#7201a8\"],[0.3333333333333333,\"#9c179e\"],[0.4444444444444444,\"#bd3786\"],[0.5555555555555556,\"#d8576b\"],[0.6666666666666666,\"#ed7953\"],[0.7777777777777778,\"#fb9f3a\"],[0.8888888888888888,\"#fdca26\"],[1.0,\"#f0f921\"]]},\"colorway\":[\"#636efa\",\"#EF553B\",\"#00cc96\",\"#ab63fa\",\"#FFA15A\",\"#19d3f3\",\"#FF6692\",\"#B6E880\",\"#FF97FF\",\"#FECB52\"],\"font\":{\"color\":\"#2a3f5f\"},\"geo\":{\"bgcolor\":\"white\",\"lakecolor\":\"white\",\"landcolor\":\"#E5ECF6\",\"showlakes\":true,\"showland\":true,\"subunitcolor\":\"white\"},\"hoverlabel\":{\"align\":\"left\"},\"hovermode\":\"closest\",\"mapbox\":{\"style\":\"light\"},\"paper_bgcolor\":\"white\",\"plot_bgcolor\":\"#E5ECF6\",\"polar\":{\"angularaxis\":{\"gridcolor\":\"white\",\"linecolor\":\"white\",\"ticks\":\"\"},\"bgcolor\":\"#E5ECF6\",\"radialaxis\":{\"gridcolor\":\"white\",\"linecolor\":\"white\",\"ticks\":\"\"}},\"scene\":{\"xaxis\":{\"backgroundcolor\":\"#E5ECF6\",\"gridcolor\":\"white\",\"gridwidth\":2,\"linecolor\":\"white\",\"showbackground\":true,\"ticks\":\"\",\"zerolinecolor\":\"white\"},\"yaxis\":{\"backgroundcolor\":\"#E5ECF6\",\"gridcolor\":\"white\",\"gridwidth\":2,\"linecolor\":\"white\",\"showbackground\":true,\"ticks\":\"\",\"zerolinecolor\":\"white\"},\"zaxis\":{\"backgroundcolor\":\"#E5ECF6\",\"gridcolor\":\"white\",\"gridwidth\":2,\"linecolor\":\"white\",\"showbackground\":true,\"ticks\":\"\",\"zerolinecolor\":\"white\"}},\"shapedefaults\":{\"line\":{\"color\":\"#2a3f5f\"}},\"ternary\":{\"aaxis\":{\"gridcolor\":\"white\",\"linecolor\":\"white\",\"ticks\":\"\"},\"baxis\":{\"gridcolor\":\"white\",\"linecolor\":\"white\",\"ticks\":\"\"},\"bgcolor\":\"#E5ECF6\",\"caxis\":{\"gridcolor\":\"white\",\"linecolor\":\"white\",\"ticks\":\"\"}},\"title\":{\"x\":0.05},\"xaxis\":{\"automargin\":true,\"gridcolor\":\"white\",\"linecolor\":\"white\",\"ticks\":\"\",\"title\":{\"standoff\":15},\"zerolinecolor\":\"white\",\"zerolinewidth\":2},\"yaxis\":{\"automargin\":true,\"gridcolor\":\"white\",\"linecolor\":\"white\",\"ticks\":\"\",\"title\":{\"standoff\":15},\"zerolinecolor\":\"white\",\"zerolinewidth\":2}}}},                        {\"responsive\": true}                    ).then(function(){\n",
       "                            \n",
       "var gd = document.getElementById('0302cb95-52b5-4bb4-a207-5200bda43000');\n",
       "var x = new MutationObserver(function (mutations, observer) {{\n",
       "        var display = window.getComputedStyle(gd).display;\n",
       "        if (!display || display === 'none') {{\n",
       "            console.log([gd, 'removed!']);\n",
       "            Plotly.purge(gd);\n",
       "            observer.disconnect();\n",
       "        }}\n",
       "}});\n",
       "\n",
       "// Listen for the removal of the full notebook cells\n",
       "var notebookContainer = gd.closest('#notebook-container');\n",
       "if (notebookContainer) {{\n",
       "    x.observe(notebookContainer, {childList: true});\n",
       "}}\n",
       "\n",
       "// Listen for the clearing of the current output cell\n",
       "var outputEl = gd.closest('.output');\n",
       "if (outputEl) {{\n",
       "    x.observe(outputEl, {childList: true});\n",
       "}}\n",
       "\n",
       "                        })                };                });            </script>        </div>"
      ]
     },
     "metadata": {},
     "output_type": "display_data"
    }
   ],
   "source": [
    "draw_main_circuit(make_gr(y_test, yhat));"
   ]
  },
  {
   "cell_type": "code",
   "execution_count": 47,
   "metadata": {
    "id": "MerjtpNsrNF-"
   },
   "outputs": [],
   "source": [
    "def plot_dist_error_xyz(y_test, yhat, cube_dim=0.5):\n",
    "    y_test = y_test.to_numpy()\n",
    "    fig, axs = plt.subplots(1, 3, constrained_layout=True, figsize=(15, 5))\n",
    "    fig.suptitle('Distance error distribution among axes', fontsize=24)\n",
    "\n",
    "    for i,coord_label in zip(range(3), ['x', 'y', 'z']):\n",
    "        ax = axs[i]\n",
    "        \n",
    "        # draw y=x line and predictions\n",
    "        ax.axline([0, 0], [cube_dim, cube_dim])\n",
    "        ax.scatter(x=y_test[:,i], y=yhat[:,i])\n",
    "        \n",
    "        ax.set(aspect='equal')\n",
    "        ax.set_ylabel('predicted values (nm)', fontsize=18)\n",
    "        ax.set_xlabel(f'test {coord_label} (nm)', fontsize=18)"
   ]
  },
  {
   "cell_type": "code",
   "execution_count": 48,
   "metadata": {
    "colab": {
     "base_uri": "https://localhost:8080/",
     "height": 385
    },
    "id": "YPkU3yxim8tb",
    "outputId": "d16bc340-553e-41d3-8c28-bfad83147118"
   },
   "outputs": [
    {
     "data": {
      "image/png": "[encoded data removed]",
      "text/plain": [
       "<Figure size 1080x360 with 3 Axes>"
      ]
     },
     "metadata": {
      "needs_background": "light"
     },
     "output_type": "display_data"
    }
   ],
   "source": [
    "plot_dist_error_xyz(y_test, yhat)"
   ]
  },
  {
   "cell_type": "markdown",
   "metadata": {
    "id": "FDFziw-hl9Fy"
   },
   "source": [
    "Calculate distance between $p_{pred}$ and $p_{real}$\n",
    "\n",
    "$$\n",
    "d = \\sqrt{\\sum_{x,y,z} (p_{pred} - p_{real})^2}\n",
    "$$"
   ]
  },
  {
   "cell_type": "code",
   "execution_count": 26,
   "metadata": {
    "id": "_4Yr1nIK17us"
   },
   "outputs": [],
   "source": [
    "def descr(y_test, yhat):\n",
    "    y_test = y_test.to_numpy()\n",
    "    error_d = []\n",
    "    for p,phat in zip(y_test, yhat):\n",
    "        sq_sum = np.sum((p-phat)**2)\n",
    "        error_d.append(np.sqrt(sq_sum))\n",
    "    error_d = np.round(np.array(error_d), 4)\n",
    "\n",
    "    print(f'mean distance: {round(np.mean(error_d),4)} +/- {round(np.std(error_d),4)}')\n",
    "    print(f'min :  {np.min(error_d)}, max :  {np.max(error_d)}, Range: {np.max(error_d) - np.min(error_d)}')\n",
    "    print('---')\n",
    "    print(f'dist <= 0.05 (%):\\t{round(len(error_d[error_d<=0.5*0.05])*100/len(error_d),2)} %')\n",
    "    print(f'dist <= 0.1 (%):\\t{round(len(error_d[error_d<=0.5*0.1])*100/len(error_d),2)} %')\n",
    "    print(f'dist <= 0.2 (%):\\t{round(len(error_d[error_d<=0.5*0.2])*100/len(error_d),2)} %')\n",
    "\n",
    "    return error_d\n",
    "\n",
    "    # 0.5 - 1\n",
    "    # x -   0.2\n",
    "    # x = 0.5*0.2"
   ]
  },
  {
   "cell_type": "code",
   "execution_count": null,
   "metadata": {},
   "outputs": [],
   "source": []
  },
  {
   "cell_type": "code",
   "execution_count": 27,
   "metadata": {
    "colab": {
     "base_uri": "https://localhost:8080/"
    },
    "id": "EHRxsoxdpE-J",
    "outputId": "4cf72645-f9d7-422e-b8b0-19b1db893d4b"
   },
   "outputs": [
    {
     "name": "stdout",
     "output_type": "stream",
     "text": [
      "mean distance: 0.0687 +/- 0.0404\n",
      "min :  0.0108, max :  0.2316, Range: 0.2208\n",
      "---\n",
      "dist <= 0.05 (%):\t9.0 %\n",
      "dist <= 0.1 (%):\t31.0 %\n",
      "dist <= 0.2 (%):\t87.0 %\n",
      "[CV 2/2; 1/2] START reg__estimator__max_depth=3, reg__estimator__n_estimators=2000\n",
      "[CV 2/2; 1/2] END reg__estimator__max_depth=3, reg__estimator__n_estimators=2000;, score=-0.060 total time= 1.5min\n",
      "[CV 1/2; 1/2] START reg__estimator__max_depth=3, reg__estimator__n_estimators=2000\n",
      "[CV 1/2; 1/2] END reg__estimator__max_depth=3, reg__estimator__n_estimators=2000;, score=-0.055 total time= 1.5min\n",
      "[CV 1/2; 2/2] START reg__estimator__max_depth=5, reg__estimator__n_estimators=2000\n",
      "[CV 1/2; 2/2] END reg__estimator__max_depth=5, reg__estimator__n_estimators=2000;, score=-0.059 total time= 1.6min\n",
      "[CV 2/2; 2/2] START reg__estimator__max_depth=5, reg__estimator__n_estimators=2000\n",
      "[CV 2/2; 2/2] END reg__estimator__max_depth=5, reg__estimator__n_estimators=2000;, score=-0.062 total time= 1.6min\n"
     ]
    }
   ],
   "source": [
    "error_dist = descr(y_test, yhat)"
   ]
  },
  {
   "cell_type": "code",
   "execution_count": 49,
   "metadata": {},
   "outputs": [
    {
     "name": "stdout",
     "output_type": "stream",
     "text": [
      "mean distance: 0.0769 +/- 0.0665\n",
      "min :  0.005, max :  0.4626, Range: 0.4576\n",
      "---\n",
      "dist <= 0.05 (%):\t12.08 %\n",
      "dist <= 0.1 (%):\t40.0 %\n",
      "dist <= 0.2 (%):\t81.25 %\n",
      "[CV 1/2; 1/1] START reg__estimator__max_depth=5, reg__estimator__n_estimators=2000\n",
      "[CV 1/2; 1/1] END reg__estimator__max_depth=5, reg__estimator__n_estimators=2000;, score=-0.070 total time= 1.4min\n",
      "[CV 2/2; 1/1] START reg__estimator__max_depth=5, reg__estimator__n_estimators=2000\n",
      "[CV 2/2; 1/1] END reg__estimator__max_depth=5, reg__estimator__n_estimators=2000;, score=-0.069 total time= 1.4min\n"
     ]
    }
   ],
   "source": [
    "error_dist = descr(y_test, yhat)"
   ]
  },
  {
   "cell_type": "code",
   "execution_count": 28,
   "metadata": {
    "id": "cVyJSSE9mt1y"
   },
   "outputs": [],
   "source": [
    "import scipy.stats as stats\n",
    "import seaborn as sns\n",
    "import math"
   ]
  },
  {
   "cell_type": "code",
   "execution_count": 29,
   "metadata": {
    "colab": {
     "base_uri": "https://localhost:8080/",
     "height": 283
    },
    "id": "buBANCJLnjIW",
    "outputId": "884d0395-a6e5-4888-ffdf-dc2b229b7749"
   },
   "outputs": [
    {
     "data": {
      "text/plain": [
       "<AxesSubplot:ylabel='Density'>"
      ]
     },
     "execution_count": 29,
     "metadata": {},
     "output_type": "execute_result"
    },
    {
     "data": {
      "image/png": "[encoded data removed]",
      "text/plain": [
       "<Figure size 432x288 with 1 Axes>"
      ]
     },
     "metadata": {
      "needs_background": "light"
     },
     "output_type": "display_data"
    }
   ],
   "source": [
    "sns.kdeplot(error_dist)"
   ]
  },
  {
   "cell_type": "code",
   "execution_count": 184,
   "metadata": {
    "id": "SP453i3iEQVg"
   },
   "outputs": [],
   "source": [
    "def hist_dist_error(y_test, yhat, error_dist):\n",
    "    plt.figure(figsize=(10,7))\n",
    "    # sns.kdeplot(error_dist, color='#4a87ba')\n",
    "    ax = sns.displot(error_dist, bins=int(len(error_dist)/2), kde=True, color='#388E3C');\n",
    "    vline = plt.axvline(x=0.05, color='#EF9A9A')\n",
    "\n",
    "    # plt.hist(error_dist, bins=len(error_dist), edgecolor='#ffffff', color='#46e49f')\n",
    "    \n",
    "    plt.xlim([0.,round(max(error_dist),2)+0.01])\n",
    "\n",
    "    plt.title('Distance error distribution', fontsize=24)\n",
    "    plt.yticks(fontsize=18)\n",
    "    plt.xticks(fontsize=18)"
   ]
  },
  {
   "cell_type": "code",
   "execution_count": 185,
   "metadata": {
    "colab": {
     "base_uri": "https://localhost:8080/",
     "height": 420
    },
    "id": "hf_vnhbCnW_p",
    "outputId": "69529302-2401-49df-d86c-727db49b599b"
   },
   "outputs": [
    {
     "data": {
      "text/plain": [
       "<Figure size 720x504 with 0 Axes>"
      ]
     },
     "metadata": {},
     "output_type": "display_data"
    },
    {
     "data": {
      "image/png": "[encoded data removed]",
      "text/plain": [
       "<Figure size 360x360 with 1 Axes>"
      ]
     },
     "metadata": {
      "needs_background": "light"
     },
     "output_type": "display_data"
    }
   ],
   "source": [
    "hist_dist_error(y_test, yhat, error_dist);"
   ]
  },
  {
   "cell_type": "markdown",
   "metadata": {
    "id": "NomoCn0_l-QY"
   },
   "source": [
    "# DL"
   ]
  },
  {
   "cell_type": "code",
   "execution_count": 358,
   "metadata": {
    "id": "5pIlIH9qavrw"
   },
   "outputs": [
    {
     "data": {
      "text/plain": [
       "<torch._C.Generator at 0x289940b90>"
      ]
     },
     "execution_count": 358,
     "metadata": {},
     "output_type": "execute_result"
    },
    {
     "name": "stdout",
     "output_type": "stream",
     "text": [
      "[CV 1/2; 3/6] START reg__estimator__max_depth=5, reg__estimator__n_estimators=1000\n",
      "[CV 1/2; 3/6] END reg__estimator__max_depth=5, reg__estimator__n_estimators=1000;, score=-0.093 total time= 1.4min\n",
      "[CV 1/2; 6/6] START reg__estimator__max_depth=7, reg__estimator__n_estimators=2000\n",
      "[CV 1/2; 6/6] END reg__estimator__max_depth=7, reg__estimator__n_estimators=2000;, score=-0.093 total time= 1.2min\n",
      "[CV 1/2; 3/6] START reg__estimator__max_depth=5, reg__estimator__n_estimators=1000\n",
      "[CV 1/2; 3/6] END reg__estimator__max_depth=5, reg__estimator__n_estimators=1000;, score=-0.083 total time= 1.1min\n",
      "[CV 1/2; 6/6] START reg__estimator__max_depth=7, reg__estimator__n_estimators=2000\n",
      "[CV 1/2; 6/6] END reg__estimator__max_depth=7, reg__estimator__n_estimators=2000;, score=-0.083 total time= 1.0min\n",
      "[CV 1/2; 3/6] START reg__estimator__max_depth=5, reg__estimator__n_estimators=1000\n",
      "[CV 1/2; 3/6] END reg__estimator__max_depth=5, reg__estimator__n_estimators=1000;, score=-0.084 total time= 3.2min\n",
      "[CV 1/2; 1/6] START reg__estimator__max_depth=3, reg__estimator__n_estimators=1000\n",
      "[CV 1/2; 1/6] END reg__estimator__max_depth=3, reg__estimator__n_estimators=1000;, score=-0.047 total time= 1.5min\n",
      "[CV 1/2; 5/6] START reg__estimator__max_depth=7, reg__estimator__n_estimators=1000\n",
      "[CV 1/2; 5/6] END reg__estimator__max_depth=7, reg__estimator__n_estimators=1000;, score=-0.053 total time= 2.5min\n",
      "[CV 2/2; 2/6] START reg__estimator__max_depth=3, reg__estimator__n_estimators=2000\n",
      "[CV 2/2; 2/6] END reg__estimator__max_depth=3, reg__estimator__n_estimators=2000;, score=-0.098 total time= 1.4min\n",
      "[CV 1/2; 1/6] START reg__estimator__max_depth=3, reg__estimator__n_estimators=1000\n",
      "[CV 1/2; 1/6] END reg__estimator__max_depth=3, reg__estimator__n_estimators=1000;, score=-0.084 total time=  38.0s\n",
      "[CV 1/2; 5/6] START reg__estimator__max_depth=7, reg__estimator__n_estimators=1000\n",
      "[CV 1/2; 5/6] END reg__estimator__max_depth=7, reg__estimator__n_estimators=1000;, score=-0.083 total time= 1.3min\n",
      "[CV 2/2; 3/6] START reg__estimator__max_depth=5, reg__estimator__n_estimators=1000\n",
      "[CV 2/2; 3/6] END reg__estimator__max_depth=5, reg__estimator__n_estimators=1000;, score=-0.090 total time= 3.3min\n",
      "[CV 2/2; 1/6] START reg__estimator__max_depth=3, reg__estimator__n_estimators=1000\n",
      "[CV 2/2; 1/6] END reg__estimator__max_depth=3, reg__estimator__n_estimators=1000;, score=-0.056 total time= 1.5min\n",
      "[CV 2/2; 5/6] START reg__estimator__max_depth=7, reg__estimator__n_estimators=1000\n",
      "[CV 2/2; 5/6] END reg__estimator__max_depth=7, reg__estimator__n_estimators=1000;, score=-0.061 total time= 2.5min\n",
      "[CV 1/2; 4/6] START reg__estimator__max_depth=5, reg__estimator__n_estimators=2000\n",
      "[CV 1/2; 4/6] END reg__estimator__max_depth=5, reg__estimator__n_estimators=2000;, score=-0.094 total time= 2.2min\n",
      "[CV 2/2; 4/6] START reg__estimator__max_depth=5, reg__estimator__n_estimators=2000\n",
      "[CV 2/2; 4/6] END reg__estimator__max_depth=5, reg__estimator__n_estimators=2000;, score=-0.091 total time= 1.9min\n",
      "[CV 2/2; 2/6] START reg__estimator__max_depth=3, reg__estimator__n_estimators=2000\n",
      "[CV 2/2; 2/6] END reg__estimator__max_depth=3, reg__estimator__n_estimators=2000;, score=-0.089 total time= 3.2min\n",
      "[CV 2/2; 6/6] START reg__estimator__max_depth=7, reg__estimator__n_estimators=2000\n",
      "[CV 2/2; 6/6] END reg__estimator__max_depth=7, reg__estimator__n_estimators=2000;, score=-0.094 total time= 1.8min\n",
      "[CV 1/2; 3/6] START reg__estimator__max_depth=5, reg__estimator__n_estimators=1000\n",
      "[CV 1/2; 3/6] END reg__estimator__max_depth=5, reg__estimator__n_estimators=1000;, score=-0.051 total time= 2.9min\n",
      "[CV 1/2; 6/6] START reg__estimator__max_depth=7, reg__estimator__n_estimators=2000\n",
      "[CV 1/2; 6/6] END reg__estimator__max_depth=7, reg__estimator__n_estimators=2000;, score=-0.053 total time= 1.4min\n",
      "[CV 2/2; 3/6] START reg__estimator__max_depth=5, reg__estimator__n_estimators=1000\n",
      "[CV 2/2; 3/6] END reg__estimator__max_depth=5, reg__estimator__n_estimators=1000;, score=-0.097 total time= 1.4min\n",
      "[CV 2/2; 6/6] START reg__estimator__max_depth=7, reg__estimator__n_estimators=2000\n",
      "[CV 2/2; 6/6] END reg__estimator__max_depth=7, reg__estimator__n_estimators=2000;, score=-0.099 total time= 1.1min\n",
      "[CV 1/2; 2/6] START reg__estimator__max_depth=3, reg__estimator__n_estimators=2000\n",
      "[CV 1/2; 2/6] END reg__estimator__max_depth=3, reg__estimator__n_estimators=2000;, score=-0.084 total time= 1.2min\n",
      "[CV 1/2; 1/6] START reg__estimator__max_depth=3, reg__estimator__n_estimators=1000\n",
      "[CV 1/2; 1/6] END reg__estimator__max_depth=3, reg__estimator__n_estimators=1000;, score=-0.084 total time= 1.7min\n",
      "[CV 1/2; 5/6] START reg__estimator__max_depth=7, reg__estimator__n_estimators=1000\n",
      "[CV 1/2; 5/6] END reg__estimator__max_depth=7, reg__estimator__n_estimators=1000;, score=-0.087 total time= 3.1min\n",
      "[CV 2/2; 3/6] START reg__estimator__max_depth=5, reg__estimator__n_estimators=1000\n",
      "[CV 2/2; 3/6] END reg__estimator__max_depth=5, reg__estimator__n_estimators=1000;, score=-0.060 total time= 2.9min\n",
      "[CV 2/2; 6/6] START reg__estimator__max_depth=7, reg__estimator__n_estimators=2000\n",
      "[CV 2/2; 6/6] END reg__estimator__max_depth=7, reg__estimator__n_estimators=2000;, score=-0.061 total time= 1.4min\n"
     ]
    }
   ],
   "source": [
    "import numpy as np\n",
    "import pandas as pd\n",
    "import os\n",
    "from tqdm import tqdm\n",
    "from PIL import Image\n",
    "import matplotlib.pyplot as plt\n",
    "import torch\n",
    "\n",
    "import networkx as nx\n",
    "\n",
    "# from collections import Counter\n",
    "\n",
    "from sklearn.metrics import confusion_matrix\n",
    "import seaborn as sn\n",
    "import random\n",
    "\n",
    "# from imblearn.metrics import classification_report_imbalanced\n",
    "\n",
    "from sklearn.model_selection import train_test_split\n",
    "# from imblearn.over_sampling import RandomOverSampler\n",
    "\n",
    "import torch.nn as nn\n",
    "import torch.nn.functional as F\n",
    "import torch.optim as optim\n",
    "from torch.utils.data.sampler import SubsetRandomSampler\n",
    "from torch.utils.data import Dataset, DataLoader, random_split\n",
    "import torchvision\n",
    "import torchvision.transforms as transforms\n",
    "\n",
    "import torchvision.models as models\n",
    "\n",
    "# from IPython.display import clear_output\n",
    "\n",
    "# import cv2\n",
    "\n",
    "# from google.colab import drive\n",
    "\n",
    "# from pytorch_grad_cam import GradCAM, ScoreCAM, GradCAMPlusPlus, AblationCAM, XGradCAM, EigenCAM, FullGrad\n",
    "# from pytorch_grad_cam.utils.model_targets import ClassifierOutputTarget\n",
    "# from pytorch_grad_cam.utils.image import show_cam_on_image\n",
    "\n",
    "# import albumentations as A\n",
    "\n",
    "seed = 42\n",
    "torch.manual_seed(seed)\n",
    "torch.cuda.manual_seed_all(seed)\n",
    "torch.backends.cudnn.deterministic = True\n",
    "torch.backends.cudnn.benchmark = False\n",
    "np.random.seed(seed)\n",
    "random.seed(seed)\n",
    "os.environ['PYTHONHASHSEED'] = str(seed)\n",
    "\n",
    "def seed_worker(worker_id):\n",
    "    worker_seed = torch.initial_seed() % 2**32\n",
    "    np.random.seed(worker_seed)\n",
    "    random.seed(worker_seed)\n",
    "\n",
    "g = torch.Generator()\n",
    "g.manual_seed(0)"
   ]
  },
  {
   "cell_type": "markdown",
   "metadata": {
    "id": "xTtR8ZRAmH2I"
   },
   "source": [
    "## CNN"
   ]
  },
  {
   "cell_type": "code",
   "execution_count": 417,
   "metadata": {},
   "outputs": [
    {
     "data": {
      "text/plain": [
       "device(type='cpu')"
      ]
     },
     "execution_count": 417,
     "metadata": {},
     "output_type": "execute_result"
    }
   ],
   "source": [
    "device = torch.device(\"cuda:0\" if torch.cuda.is_available() else \"cpu\")\n",
    "device"
   ]
  },
  {
   "cell_type": "code",
   "execution_count": 469,
   "metadata": {
    "id": "baHtNcO8_CHL"
   },
   "outputs": [],
   "source": [
    "batch_size = 8\n",
    "validation_split = 0.3\n",
    "shuffle_dataset = True\n",
    "outp_chennels = 3\n",
    "num_epochs = 3"
   ]
  },
  {
   "cell_type": "code",
   "execution_count": 470,
   "metadata": {},
   "outputs": [],
   "source": [
    "learning_rate = 0.001"
   ]
  },
  {
   "cell_type": "code",
   "execution_count": 420,
   "metadata": {
    "id": "BqFssGD-4AMn"
   },
   "outputs": [],
   "source": [
    "# train_set, test_set = random_split(CNTdataset, [200, 17])\n",
    "\n",
    "# train_loader = DataLoader(dataset=train_set, batch_size=batch_size, shuffle=True)\n",
    "# test_loader = DataLoader(dataset=test_set, shuffle=True)"
   ]
  },
  {
   "cell_type": "code",
   "execution_count": 423,
   "metadata": {},
   "outputs": [],
   "source": [
    "train, test = train_test_split(df.iloc[:-1, :-4], test_size=0.2, random_state=seed)"
   ]
  },
  {
   "cell_type": "code",
   "execution_count": 424,
   "metadata": {},
   "outputs": [],
   "source": [
    "train_sampler = SubsetRandomSampler(train.index.to_list())\n",
    "valid_sampler = SubsetRandomSampler(test.index.to_list())\n",
    "\n",
    "transform = transforms.Compose([\n",
    "    transforms.ToTensor(),\n",
    "    transforms.Normalize((3.432508856546101e-06,), (1.3494692066886702e-06,)),\n",
    "])"
   ]
  },
  {
   "cell_type": "code",
   "execution_count": 425,
   "metadata": {},
   "outputs": [],
   "source": [
    "class CNTdataset(Dataset):\n",
    "    def __init__(self, graphs_path, labels, transform=None):\n",
    "        self.graphs_path = graphs_path\n",
    "        self.transform = transform\n",
    "        self.labels = labels\n",
    "        \n",
    "    def __len__(self):\n",
    "        return len(self.labels)\n",
    "    \n",
    "    def __getitem__(self, index):\n",
    "        g_path = os.path.join(self.graphs_path,\n",
    "                              self.labels.loc[index, 'g_name'])\n",
    "        g = nx.read_gml(g_path)\n",
    "        attr_matr = np.squeeze(np.asarray(nx.attr_matrix(g, edge_attr=\"U\")[0]))\n",
    "        label = torch.tensor(list(self.labels.loc[index, ['x', 'y', 'z']]))\n",
    "        \n",
    "        if self.transform is not None:\n",
    "            attr_matr = self.transform(attr_matr)\n",
    "        return attr_matr, label"
   ]
  },
  {
   "cell_type": "code",
   "execution_count": 426,
   "metadata": {},
   "outputs": [],
   "source": [
    "graphs_path = '/Users/glebcom/Desktop/skoltech/research/nb/data/graphs'\n",
    "labels = data.df.iloc[:-1, -4:]\n",
    "\n",
    "dataset = CNTdataset(graphs_path, labels, transform)\n",
    "\n",
    "train_loader = torch.utils.data.DataLoader(dataset, \n",
    "                                           batch_size=batch_size, \n",
    "                                           sampler=train_sampler,\n",
    "                                           worker_init_fn=seed_worker,\n",
    "                                           generator=g)\n",
    "\n",
    "validation_loader = torch.utils.data.DataLoader(dataset, \n",
    "                                                batch_size=batch_size, \n",
    "                                                sampler=valid_sampler,\n",
    "                                                worker_init_fn=seed_worker,\n",
    "                                                generator=g)"
   ]
  },
  {
   "cell_type": "code",
   "execution_count": 433,
   "metadata": {},
   "outputs": [
    {
     "data": {
      "text/plain": [
       "14"
      ]
     },
     "execution_count": 433,
     "metadata": {},
     "output_type": "execute_result"
    }
   ],
   "source": [
    "len(validation_loader)"
   ]
  },
  {
   "cell_type": "code",
   "execution_count": 440,
   "metadata": {},
   "outputs": [],
   "source": [
    "model = models.resnet18()\n",
    "model_name = 'resnet18'\n",
    "\n",
    "model.conv1 = nn.Conv2d(1, 64, kernel_size=(7, 7), stride=(2, 2), padding=(3, 3), bias=False)\n",
    "model.fc = nn.Linear(512, outp_chennels)"
   ]
  },
  {
   "cell_type": "code",
   "execution_count": 9,
   "metadata": {
    "id": "R3QaGkkewLNZ"
   },
   "outputs": [],
   "source": [
    "class CNN(nn.Module):\n",
    "    def __init__(self, in_channels=1, outp=3):\n",
    "        super(CNN, self).__init__()\n",
    "        # 216 x 216\n",
    "        self.conv1 = nn.Conv2d(\n",
    "            in_channels=in_channels,\n",
    "            out_channels=8,\n",
    "            kernel_size=3, stride=1, padding=1\n",
    "        )\n",
    "        self.pool = nn.MaxPool2d(kernel_size=2, stride=2)\n",
    "        self.BatchNorm8 = nn.BatchNorm2d(8)\n",
    "        self.BatchNorm16 = nn.BatchNorm2d(16)\n",
    "        self.conv2 = nn.Conv2d(\n",
    "            in_channels=8,\n",
    "            out_channels=16,\n",
    "            kernel_size=3, stride=1, padding=1\n",
    "        )\n",
    "        self.fc1 = nn.Linear(46656, outp)\n",
    "\n",
    "    def forward(self, x):\n",
    "        x = F.leaky_relu(self.conv1(x))\n",
    "        x = self.pool(x)\n",
    "        x = F.leaky_relu(self.conv2(x))\n",
    "        x = self.pool(x)\n",
    "        x = x.reshape(x.shape[0], -1)\n",
    "        x = self.fc1(x)\n",
    "        return x"
   ]
  },
  {
   "cell_type": "code",
   "execution_count": 16,
   "metadata": {
    "colab": {
     "base_uri": "https://localhost:8080/"
    },
    "id": "tk1Krg_x9Hiy",
    "outputId": "3d86b3ae-c67d-404e-f01d-e252948a47fe"
   },
   "outputs": [
    {
     "name": "stdout",
     "output_type": "stream",
     "text": [
      "CNN(\n",
      "  (conv1): Conv2d(1, 8, kernel_size=(3, 3), stride=(1, 1), padding=(1, 1))\n",
      "  (pool): MaxPool2d(kernel_size=2, stride=2, padding=0, dilation=1, ceil_mode=False)\n",
      "  (BatchNorm8): BatchNorm2d(8, eps=1e-05, momentum=0.1, affine=True, track_running_stats=True)\n",
      "  (BatchNorm16): BatchNorm2d(16, eps=1e-05, momentum=0.1, affine=True, track_running_stats=True)\n",
      "  (conv2): Conv2d(8, 16, kernel_size=(3, 3), stride=(1, 1), padding=(1, 1))\n",
      "  (fc1): Linear(in_features=46656, out_features=3, bias=True)\n",
      ")\n"
     ]
    }
   ],
   "source": [
    "# model = CNN(in_channels=1, outp=3).to(device)\n",
    "# print(model)"
   ]
  },
  {
   "cell_type": "code",
   "execution_count": 441,
   "metadata": {
    "id": "xKWsfy2blDgO"
   },
   "outputs": [],
   "source": [
    "def distance_score(p, phat):\n",
    "    sq_sum = torch.sum((p-phat)**2)\n",
    "    return torch.sqrt(sq_sum)"
   ]
  },
  {
   "cell_type": "code",
   "execution_count": 442,
   "metadata": {
    "id": "R1YpXFcs2js3"
   },
   "outputs": [],
   "source": [
    "# criterion = nn.CrossEntropyLoss()\n",
    "criterion = distance_score\n",
    "optimizer = optim.Adam(model.parameters(), lr=learning_rate)"
   ]
  },
  {
   "cell_type": "code",
   "execution_count": 443,
   "metadata": {},
   "outputs": [
    {
     "name": "stdout",
     "output_type": "stream",
     "text": [
      "torch.Size([8, 1, 24, 24])\n"
     ]
    }
   ],
   "source": [
    "for i in train_loader:\n",
    "    print(i[0].shape)\n",
    "    break"
   ]
  },
  {
   "cell_type": "code",
   "execution_count": 444,
   "metadata": {
    "colab": {
     "base_uri": "https://localhost:8080/"
    },
    "id": "asthDQVf2jv7",
    "outputId": "42327633-b922-4a35-d766-601a36f67755"
   },
   "outputs": [
    {
     "name": "stdout",
     "output_type": "stream",
     "text": [
      "#0 loss: 1.0991\n",
      "#1 loss: 0.5951\n",
      "#2 loss: 0.78\n",
      "#3 loss: 0.7383\n",
      "#4 loss: 0.7521\n",
      "#5 loss: 0.5825\n",
      "#6 loss: 0.6934\n",
      "#7 loss: 0.5953\n",
      "#8 loss: 0.7929\n",
      "#9 loss: 0.5116\n",
      "#10 loss: 0.4659\n",
      "#11 loss: 0.7097\n",
      "#12 loss: 0.6401\n",
      "#13 loss: 0.5062\n",
      "#14 loss: 0.6737\n"
     ]
    }
   ],
   "source": [
    "loss_history = []\n",
    "for epoch in range(num_epochs):\n",
    "    for data, targets in train_loader:\n",
    "        # Get data to cuda if possible\n",
    "        data = data.to(device=device)\n",
    "        targets = targets.to(device=device)\n",
    "\n",
    "        # forward\n",
    "        scores = model(data.float())\n",
    "        loss = criterion(scores, targets)\n",
    "\n",
    "        # backward\n",
    "        optimizer.zero_grad()\n",
    "        loss.backward()\n",
    "\n",
    "        # gradient descent or adam step\n",
    "        optimizer.step()\n",
    "    loss_history.append(loss.data.item())\n",
    "    if epoch%1 == 0: print(f'#{epoch} loss: {round(loss_history[-1], 4)}')"
   ]
  },
  {
   "cell_type": "code",
   "execution_count": 445,
   "metadata": {
    "colab": {
     "base_uri": "https://localhost:8080/",
     "height": 265
    },
    "id": "Oy64kZn9rMy_",
    "outputId": "db50bb06-e735-489f-91bd-a842a6dac368"
   },
   "outputs": [
    {
     "data": {
      "image/png": "[encoded data removed]",
      "text/plain": [
       "<Figure size 432x288 with 1 Axes>"
      ]
     },
     "metadata": {
      "needs_background": "light"
     },
     "output_type": "display_data"
    }
   ],
   "source": [
    "plt.plot(loss_history);"
   ]
  },
  {
   "cell_type": "code",
   "execution_count": 446,
   "metadata": {
    "id": "EwPVvnX0f8-k"
   },
   "outputs": [],
   "source": [
    "y_numpy = np.zeros((len(validation_loader)*batch_size, 3))\n",
    "yhat_numpy = np.zeros((len(validation_loader)*batch_size, 3))\n",
    "\n",
    "with torch.no_grad():\n",
    "    for i, (data, target) in enumerate(validation_loader):\n",
    "        x = data.to(device=device)\n",
    "        y = target.to(device=device)\n",
    "        yhat = model(x.float())\n",
    "        \n",
    "        for k, (y, yhat) in enumerate(zip(torch.squeeze(y.cpu().data).numpy(),\n",
    "                                          torch.squeeze(yhat.cpu().data).numpy())):\n",
    "            y_numpy[i+k] = y\n",
    "            yhat_numpy[i+k] = yhat"
   ]
  },
  {
   "cell_type": "code",
   "execution_count": 447,
   "metadata": {
    "id": "_P-sll-Ina2U"
   },
   "outputs": [],
   "source": [
    "y_test = y_numpy\n",
    "yhat = yhat_numpy"
   ]
  },
  {
   "cell_type": "code",
   "execution_count": 448,
   "metadata": {
    "colab": {
     "base_uri": "https://localhost:8080/",
     "height": 642
    },
    "id": "yxmUbbYbf9EY",
    "outputId": "5f90907c-0ba1-4814-d5f2-298d3941620b"
   },
   "outputs": [
    {
     "data": {
      "application/vnd.plotly.v1+json": {
       "config": {
        "plotlyServerURL": "https://plot.ly"
       },
       "data": [
        {
         "hoverinfo": "none",
         "line": {
          "color": "rgba(185, 75, 75, 0.5)",
          "width": 2
         },
         "mode": "lines",
         "type": "scatter3d",
         "x": [
          0,
          0.5,
          0.5,
          0,
          0
         ],
         "y": [
          0,
          0,
          0.5,
          0.5,
          0
         ],
         "z": [
          0,
          0,
          0,
          0,
          0
         ]
        },
        {
         "hoverinfo": "none",
         "line": {
          "color": "rgba(185, 75, 75, 0.5)",
          "width": 2
         },
         "mode": "lines",
         "type": "scatter3d",
         "x": [
          0,
          0.5,
          0.5,
          0,
          0
         ],
         "y": [
          0,
          0,
          0.5,
          0.5,
          0
         ],
         "z": [
          0.5,
          0.5,
          0.5,
          0.5,
          0.5
         ]
        },
        {
         "hoverinfo": "none",
         "line": {
          "color": "rgba(185, 75, 75, 0.5)",
          "width": 2
         },
         "mode": "lines",
         "type": "scatter3d",
         "x": [
          0,
          0
         ],
         "y": [
          0,
          0
         ],
         "z": [
          0,
          0.5
         ]
        },
        {
         "hoverinfo": "none",
         "line": {
          "color": "rgba(185, 75, 75, 0.5)",
          "width": 2
         },
         "mode": "lines",
         "type": "scatter3d",
         "x": [
          0.5,
          0.5
         ],
         "y": [
          0,
          0
         ],
         "z": [
          0,
          0.5
         ]
        },
        {
         "hoverinfo": "none",
         "line": {
          "color": "rgba(185, 75, 75, 0.5)",
          "width": 2
         },
         "mode": "lines",
         "type": "scatter3d",
         "x": [
          0.5,
          0.5
         ],
         "y": [
          0.5,
          0.5
         ],
         "z": [
          0,
          0.5
         ]
        },
        {
         "hoverinfo": "none",
         "line": {
          "color": "rgba(185, 75, 75, 0.5)",
          "width": 2
         },
         "mode": "lines",
         "type": "scatter3d",
         "x": [
          0,
          0
         ],
         "y": [
          0.5,
          0.5
         ],
         "z": [
          0,
          0.5
         ]
        },
        {
         "hoverinfo": "text",
         "marker": {
          "color": [
           1,
           1,
           1,
           1,
           1,
           1,
           1,
           1,
           1,
           1,
           1,
           1,
           1,
           1,
           1,
           1,
           1,
           1,
           1,
           1,
           0,
           0,
           0,
           0,
           0,
           0,
           0,
           0,
           0,
           0,
           0,
           0,
           0,
           0,
           0,
           0,
           0,
           0,
           0,
           0
          ],
          "colorscale": [
           [
            0,
            "lightgreen"
           ],
           [
            1,
            "magenta"
           ]
          ],
          "size": 5,
          "symbol": "circle"
         },
         "mode": "markers",
         "opacity": 0.5,
         "text": [
          "0 (0.4, 0.3, 0.27)",
          "1 (0.2, 0.3, 0.45)",
          "2 (0.1, 0.1, 0.105)",
          "3 (0.1, 0.3, 0.375)",
          "4 (0.4, 0.4, 0.06)",
          "5 (0.2, 0.1, 0.135)",
          "6 (0.2, 0.4, 0.12)",
          "7 (0.4, 0.3, 0.105)",
          "8 (0.3, 0.3, 0.135)",
          "9 (0.3, 0.2, 0.12)",
          "10 (0.4, 0.4, 0.405)",
          "11 (0.1, 0.3, 0.18)",
          "12 (0.4, 0.2, 0.375)",
          "13 (0.3, 0.2, 0.24)",
          "14 (0.4, 0.1, 0.495)",
          "15 (0.3, 0.1, 0.345)",
          "16 (0.2, 0.2, 0.42)",
          "17 (0.3, 0.1, 0.36)",
          "18 (0.3, 0.3, 0.39)",
          "19 (0.4, 0.3, 0.135)",
          "20 (0.05507675185799599, -0.22627170383930206, 0.2886124849319458)",
          "21 (0.05382087826728821, -0.22371681034564972, 0.29034414887428284)",
          "22 (0.2552001476287842, 0.2099008858203888, 0.4131176769733429)",
          "23 (0.1187022477388382, 0.025464551523327827, 0.18062803149223328)",
          "24 (0.2756635546684265, 0.303741455078125, 0.32881298661231995)",
          "25 (0.2646920084953308, 0.20482683181762695, 0.4190504848957062)",
          "26 (0.212325781583786, 0.2660503685474396, 0.3352443277835846)",
          "27 (0.3063737154006958, 0.3779146671295166, 0.30289939045906067)",
          "28 (0.24977846443653107, 0.24980323016643524, 0.3398771286010742)",
          "29 (0.2333124727010727, 0.24508823454380035, 0.313565731048584)",
          "30 (0.25051915645599365, 0.3328734040260315, 0.27565664052963257)",
          "31 (0.2262120246887207, 0.29856306314468384, 0.34113824367523193)",
          "32 (0.22269205749034882, 0.2511601448059082, 0.3359133303165436)",
          "33 (0.19610844552516937, 0.19040663540363312, 0.35572549700737)",
          "34 (0.3027212619781494, 0.20912981033325195, 0.451358824968338)",
          "35 (0.22374971210956573, 0.2280765175819397, 0.3249441981315613)",
          "36 (0.2311561554670334, 0.3237670063972473, 0.45720192790031433)",
          "37 (0.2434549778699875, 0.2127106636762619, 0.3953353762626648)",
          "38 (0.21908342838287354, 0.251166969537735, 0.319898396730423)",
          "39 (0.4726628065109253, 0.2700250446796417, 0.06023965775966644)"
         ],
         "type": "scatter3d",
         "x": [
          0.4,
          0.2,
          0.1,
          0.1,
          0.4,
          0.2,
          0.2,
          0.4,
          0.3,
          0.3,
          0.4,
          0.1,
          0.4,
          0.3,
          0.4,
          0.3,
          0.2,
          0.3,
          0.3,
          0.4,
          0.05507675185799599,
          0.05382087826728821,
          0.2552001476287842,
          0.1187022477388382,
          0.2756635546684265,
          0.2646920084953308,
          0.212325781583786,
          0.3063737154006958,
          0.24977846443653107,
          0.2333124727010727,
          0.25051915645599365,
          0.2262120246887207,
          0.22269205749034882,
          0.19610844552516937,
          0.3027212619781494,
          0.22374971210956573,
          0.2311561554670334,
          0.2434549778699875,
          0.21908342838287354,
          0.4726628065109253
         ],
         "y": [
          0.3,
          0.3,
          0.1,
          0.3,
          0.4,
          0.1,
          0.4,
          0.3,
          0.3,
          0.2,
          0.4,
          0.3,
          0.2,
          0.2,
          0.1,
          0.1,
          0.2,
          0.1,
          0.3,
          0.3,
          -0.22627170383930206,
          -0.22371681034564972,
          0.2099008858203888,
          0.025464551523327827,
          0.303741455078125,
          0.20482683181762695,
          0.2660503685474396,
          0.3779146671295166,
          0.24980323016643524,
          0.24508823454380035,
          0.3328734040260315,
          0.29856306314468384,
          0.2511601448059082,
          0.19040663540363312,
          0.20912981033325195,
          0.2280765175819397,
          0.3237670063972473,
          0.2127106636762619,
          0.251166969537735,
          0.2700250446796417
         ],
         "z": [
          0.27,
          0.45,
          0.105,
          0.375,
          0.06,
          0.135,
          0.12,
          0.105,
          0.135,
          0.12,
          0.405,
          0.18,
          0.375,
          0.24,
          0.495,
          0.345,
          0.42,
          0.36,
          0.39,
          0.135,
          0.2886124849319458,
          0.29034414887428284,
          0.4131176769733429,
          0.18062803149223328,
          0.32881298661231995,
          0.4190504848957062,
          0.3352443277835846,
          0.30289939045906067,
          0.3398771286010742,
          0.313565731048584,
          0.27565664052963257,
          0.34113824367523193,
          0.3359133303165436,
          0.35572549700737,
          0.451358824968338,
          0.3249441981315613,
          0.45720192790031433,
          0.3953353762626648,
          0.319898396730423,
          0.06023965775966644
         ]
        },
        {
         "hoverinfo": "none",
         "line": {
          "color": "rgba(74, 54, 54, 1)",
          "width": 2
         },
         "mode": "lines",
         "type": "scatter3d",
         "x": [
          0.4,
          0.05507675185799599,
          null,
          0.2,
          0.05382087826728821,
          null,
          0.1,
          0.2552001476287842,
          null,
          0.1,
          0.1187022477388382,
          null,
          0.4,
          0.2756635546684265,
          null,
          0.2,
          0.2646920084953308,
          null,
          0.2,
          0.212325781583786,
          null,
          0.4,
          0.3063737154006958,
          null,
          0.3,
          0.24977846443653107,
          null,
          0.3,
          0.2333124727010727,
          null,
          0.4,
          0.25051915645599365,
          null,
          0.1,
          0.2262120246887207,
          null,
          0.4,
          0.22269205749034882,
          null,
          0.3,
          0.19610844552516937,
          null,
          0.4,
          0.3027212619781494,
          null,
          0.3,
          0.22374971210956573,
          null,
          0.2,
          0.2311561554670334,
          null,
          0.3,
          0.2434549778699875,
          null,
          0.3,
          0.21908342838287354,
          null,
          0.4,
          0.4726628065109253,
          null
         ],
         "y": [
          0.3,
          -0.22627170383930206,
          null,
          0.3,
          -0.22371681034564972,
          null,
          0.1,
          0.2099008858203888,
          null,
          0.3,
          0.025464551523327827,
          null,
          0.4,
          0.303741455078125,
          null,
          0.1,
          0.20482683181762695,
          null,
          0.4,
          0.2660503685474396,
          null,
          0.3,
          0.3779146671295166,
          null,
          0.3,
          0.24980323016643524,
          null,
          0.2,
          0.24508823454380035,
          null,
          0.4,
          0.3328734040260315,
          null,
          0.3,
          0.29856306314468384,
          null,
          0.2,
          0.2511601448059082,
          null,
          0.2,
          0.19040663540363312,
          null,
          0.1,
          0.20912981033325195,
          null,
          0.1,
          0.2280765175819397,
          null,
          0.2,
          0.3237670063972473,
          null,
          0.1,
          0.2127106636762619,
          null,
          0.3,
          0.251166969537735,
          null,
          0.3,
          0.2700250446796417,
          null
         ],
         "z": [
          0.27,
          0.2886124849319458,
          null,
          0.45,
          0.29034414887428284,
          null,
          0.105,
          0.4131176769733429,
          null,
          0.375,
          0.18062803149223328,
          null,
          0.06,
          0.32881298661231995,
          null,
          0.135,
          0.4190504848957062,
          null,
          0.12,
          0.3352443277835846,
          null,
          0.105,
          0.30289939045906067,
          null,
          0.135,
          0.3398771286010742,
          null,
          0.12,
          0.313565731048584,
          null,
          0.405,
          0.27565664052963257,
          null,
          0.18,
          0.34113824367523193,
          null,
          0.375,
          0.3359133303165436,
          null,
          0.24,
          0.35572549700737,
          null,
          0.495,
          0.451358824968338,
          null,
          0.345,
          0.3249441981315613,
          null,
          0.42,
          0.45720192790031433,
          null,
          0.36,
          0.3953353762626648,
          null,
          0.39,
          0.319898396730423,
          null,
          0.135,
          0.06023965775966644,
          null
         ]
        }
       ],
       "layout": {
        "height": 625,
        "hovermode": "closest",
        "margin": {
         "t": 100
        },
        "scene": {
         "aspectmode": "auto",
         "aspectratio": {
          "x": 0.8829923888767304,
          "y": 1.2825847734932772,
          "z": 0.8829923888767304
         },
         "xaxis": {
          "showbackground": false,
          "showgrid": false,
          "showline": false,
          "showticklabels": false,
          "title": {
           "text": ""
          },
          "type": "linear",
          "zeroline": false
         },
         "yaxis": {
          "showbackground": false,
          "showgrid": false,
          "showline": false,
          "showticklabels": false,
          "title": {
           "text": ""
          },
          "type": "linear",
          "zeroline": false
         },
         "zaxis": {
          "showbackground": false,
          "showgrid": false,
          "showline": false,
          "showticklabels": false,
          "title": {
           "text": ""
          },
          "type": "linear",
          "zeroline": false
         }
        },
        "showlegend": false,
        "template": {
         "data": {
          "bar": [
           {
            "error_x": {
             "color": "#2a3f5f"
            },
            "error_y": {
             "color": "#2a3f5f"
            },
            "marker": {
             "line": {
              "color": "#E5ECF6",
              "width": 0.5
             },
             "pattern": {
              "fillmode": "overlay",
              "size": 10,
              "solidity": 0.2
             }
            },
            "type": "bar"
           }
          ],
          "barpolar": [
           {
            "marker": {
             "line": {
              "color": "#E5ECF6",
              "width": 0.5
             },
             "pattern": {
              "fillmode": "overlay",
              "size": 10,
              "solidity": 0.2
             }
            },
            "type": "barpolar"
           }
          ],
          "carpet": [
           {
            "aaxis": {
             "endlinecolor": "#2a3f5f",
             "gridcolor": "white",
             "linecolor": "white",
             "minorgridcolor": "white",
             "startlinecolor": "#2a3f5f"
            },
            "baxis": {
             "endlinecolor": "#2a3f5f",
             "gridcolor": "white",
             "linecolor": "white",
             "minorgridcolor": "white",
             "startlinecolor": "#2a3f5f"
            },
            "type": "carpet"
           }
          ],
          "choropleth": [
           {
            "colorbar": {
             "outlinewidth": 0,
             "ticks": ""
            },
            "type": "choropleth"
           }
          ],
          "contour": [
           {
            "colorbar": {
             "outlinewidth": 0,
             "ticks": ""
            },
            "colorscale": [
             [
              0,
              "#0d0887"
             ],
             [
              0.1111111111111111,
              "#46039f"
             ],
             [
              0.2222222222222222,
              "#7201a8"
             ],
             [
              0.3333333333333333,
              "#9c179e"
             ],
             [
              0.4444444444444444,
              "#bd3786"
             ],
             [
              0.5555555555555556,
              "#d8576b"
             ],
             [
              0.6666666666666666,
              "#ed7953"
             ],
             [
              0.7777777777777778,
              "#fb9f3a"
             ],
             [
              0.8888888888888888,
              "#fdca26"
             ],
             [
              1,
              "#f0f921"
             ]
            ],
            "type": "contour"
           }
          ],
          "contourcarpet": [
           {
            "colorbar": {
             "outlinewidth": 0,
             "ticks": ""
            },
            "type": "contourcarpet"
           }
          ],
          "heatmap": [
           {
            "colorbar": {
             "outlinewidth": 0,
             "ticks": ""
            },
            "colorscale": [
             [
              0,
              "#0d0887"
             ],
             [
              0.1111111111111111,
              "#46039f"
             ],
             [
              0.2222222222222222,
              "#7201a8"
             ],
             [
              0.3333333333333333,
              "#9c179e"
             ],
             [
              0.4444444444444444,
              "#bd3786"
             ],
             [
              0.5555555555555556,
              "#d8576b"
             ],
             [
              0.6666666666666666,
              "#ed7953"
             ],
             [
              0.7777777777777778,
              "#fb9f3a"
             ],
             [
              0.8888888888888888,
              "#fdca26"
             ],
             [
              1,
              "#f0f921"
             ]
            ],
            "type": "heatmap"
           }
          ],
          "heatmapgl": [
           {
            "colorbar": {
             "outlinewidth": 0,
             "ticks": ""
            },
            "colorscale": [
             [
              0,
              "#0d0887"
             ],
             [
              0.1111111111111111,
              "#46039f"
             ],
             [
              0.2222222222222222,
              "#7201a8"
             ],
             [
              0.3333333333333333,
              "#9c179e"
             ],
             [
              0.4444444444444444,
              "#bd3786"
             ],
             [
              0.5555555555555556,
              "#d8576b"
             ],
             [
              0.6666666666666666,
              "#ed7953"
             ],
             [
              0.7777777777777778,
              "#fb9f3a"
             ],
             [
              0.8888888888888888,
              "#fdca26"
             ],
             [
              1,
              "#f0f921"
             ]
            ],
            "type": "heatmapgl"
           }
          ],
          "histogram": [
           {
            "marker": {
             "pattern": {
              "fillmode": "overlay",
              "size": 10,
              "solidity": 0.2
             }
            },
            "type": "histogram"
           }
          ],
          "histogram2d": [
           {
            "colorbar": {
             "outlinewidth": 0,
             "ticks": ""
            },
            "colorscale": [
             [
              0,
              "#0d0887"
             ],
             [
              0.1111111111111111,
              "#46039f"
             ],
             [
              0.2222222222222222,
              "#7201a8"
             ],
             [
              0.3333333333333333,
              "#9c179e"
             ],
             [
              0.4444444444444444,
              "#bd3786"
             ],
             [
              0.5555555555555556,
              "#d8576b"
             ],
             [
              0.6666666666666666,
              "#ed7953"
             ],
             [
              0.7777777777777778,
              "#fb9f3a"
             ],
             [
              0.8888888888888888,
              "#fdca26"
             ],
             [
              1,
              "#f0f921"
             ]
            ],
            "type": "histogram2d"
           }
          ],
          "histogram2dcontour": [
           {
            "colorbar": {
             "outlinewidth": 0,
             "ticks": ""
            },
            "colorscale": [
             [
              0,
              "#0d0887"
             ],
             [
              0.1111111111111111,
              "#46039f"
             ],
             [
              0.2222222222222222,
              "#7201a8"
             ],
             [
              0.3333333333333333,
              "#9c179e"
             ],
             [
              0.4444444444444444,
              "#bd3786"
             ],
             [
              0.5555555555555556,
              "#d8576b"
             ],
             [
              0.6666666666666666,
              "#ed7953"
             ],
             [
              0.7777777777777778,
              "#fb9f3a"
             ],
             [
              0.8888888888888888,
              "#fdca26"
             ],
             [
              1,
              "#f0f921"
             ]
            ],
            "type": "histogram2dcontour"
           }
          ],
          "mesh3d": [
           {
            "colorbar": {
             "outlinewidth": 0,
             "ticks": ""
            },
            "type": "mesh3d"
           }
          ],
          "parcoords": [
           {
            "line": {
             "colorbar": {
              "outlinewidth": 0,
              "ticks": ""
             }
            },
            "type": "parcoords"
           }
          ],
          "pie": [
           {
            "automargin": true,
            "type": "pie"
           }
          ],
          "scatter": [
           {
            "marker": {
             "colorbar": {
              "outlinewidth": 0,
              "ticks": ""
             }
            },
            "type": "scatter"
           }
          ],
          "scatter3d": [
           {
            "line": {
             "colorbar": {
              "outlinewidth": 0,
              "ticks": ""
             }
            },
            "marker": {
             "colorbar": {
              "outlinewidth": 0,
              "ticks": ""
             }
            },
            "type": "scatter3d"
           }
          ],
          "scattercarpet": [
           {
            "marker": {
             "colorbar": {
              "outlinewidth": 0,
              "ticks": ""
             }
            },
            "type": "scattercarpet"
           }
          ],
          "scattergeo": [
           {
            "marker": {
             "colorbar": {
              "outlinewidth": 0,
              "ticks": ""
             }
            },
            "type": "scattergeo"
           }
          ],
          "scattergl": [
           {
            "marker": {
             "colorbar": {
              "outlinewidth": 0,
              "ticks": ""
             }
            },
            "type": "scattergl"
           }
          ],
          "scattermapbox": [
           {
            "marker": {
             "colorbar": {
              "outlinewidth": 0,
              "ticks": ""
             }
            },
            "type": "scattermapbox"
           }
          ],
          "scatterpolar": [
           {
            "marker": {
             "colorbar": {
              "outlinewidth": 0,
              "ticks": ""
             }
            },
            "type": "scatterpolar"
           }
          ],
          "scatterpolargl": [
           {
            "marker": {
             "colorbar": {
              "outlinewidth": 0,
              "ticks": ""
             }
            },
            "type": "scatterpolargl"
           }
          ],
          "scatterternary": [
           {
            "marker": {
             "colorbar": {
              "outlinewidth": 0,
              "ticks": ""
             }
            },
            "type": "scatterternary"
           }
          ],
          "surface": [
           {
            "colorbar": {
             "outlinewidth": 0,
             "ticks": ""
            },
            "colorscale": [
             [
              0,
              "#0d0887"
             ],
             [
              0.1111111111111111,
              "#46039f"
             ],
             [
              0.2222222222222222,
              "#7201a8"
             ],
             [
              0.3333333333333333,
              "#9c179e"
             ],
             [
              0.4444444444444444,
              "#bd3786"
             ],
             [
              0.5555555555555556,
              "#d8576b"
             ],
             [
              0.6666666666666666,
              "#ed7953"
             ],
             [
              0.7777777777777778,
              "#fb9f3a"
             ],
             [
              0.8888888888888888,
              "#fdca26"
             ],
             [
              1,
              "#f0f921"
             ]
            ],
            "type": "surface"
           }
          ],
          "table": [
           {
            "cells": {
             "fill": {
              "color": "#EBF0F8"
             },
             "line": {
              "color": "white"
             }
            },
            "header": {
             "fill": {
              "color": "#C8D4E3"
             },
             "line": {
              "color": "white"
             }
            },
            "type": "table"
           }
          ]
         },
         "layout": {
          "annotationdefaults": {
           "arrowcolor": "#2a3f5f",
           "arrowhead": 0,
           "arrowwidth": 1
          },
          "autotypenumbers": "strict",
          "coloraxis": {
           "colorbar": {
            "outlinewidth": 0,
            "ticks": ""
           }
          },
          "colorscale": {
           "diverging": [
            [
             0,
             "#8e0152"
            ],
            [
             0.1,
             "#c51b7d"
            ],
            [
             0.2,
             "#de77ae"
            ],
            [
             0.3,
             "#f1b6da"
            ],
            [
             0.4,
             "#fde0ef"
            ],
            [
             0.5,
             "#f7f7f7"
            ],
            [
             0.6,
             "#e6f5d0"
            ],
            [
             0.7,
             "#b8e186"
            ],
            [
             0.8,
             "#7fbc41"
            ],
            [
             0.9,
             "#4d9221"
            ],
            [
             1,
             "#276419"
            ]
           ],
           "sequential": [
            [
             0,
             "#0d0887"
            ],
            [
             0.1111111111111111,
             "#46039f"
            ],
            [
             0.2222222222222222,
             "#7201a8"
            ],
            [
             0.3333333333333333,
             "#9c179e"
            ],
            [
             0.4444444444444444,
             "#bd3786"
            ],
            [
             0.5555555555555556,
             "#d8576b"
            ],
            [
             0.6666666666666666,
             "#ed7953"
            ],
            [
             0.7777777777777778,
             "#fb9f3a"
            ],
            [
             0.8888888888888888,
             "#fdca26"
            ],
            [
             1,
             "#f0f921"
            ]
           ],
           "sequentialminus": [
            [
             0,
             "#0d0887"
            ],
            [
             0.1111111111111111,
             "#46039f"
            ],
            [
             0.2222222222222222,
             "#7201a8"
            ],
            [
             0.3333333333333333,
             "#9c179e"
            ],
            [
             0.4444444444444444,
             "#bd3786"
            ],
            [
             0.5555555555555556,
             "#d8576b"
            ],
            [
             0.6666666666666666,
             "#ed7953"
            ],
            [
             0.7777777777777778,
             "#fb9f3a"
            ],
            [
             0.8888888888888888,
             "#fdca26"
            ],
            [
             1,
             "#f0f921"
            ]
           ]
          },
          "colorway": [
           "#636efa",
           "#EF553B",
           "#00cc96",
           "#ab63fa",
           "#FFA15A",
           "#19d3f3",
           "#FF6692",
           "#B6E880",
           "#FF97FF",
           "#FECB52"
          ],
          "font": {
           "color": "#2a3f5f"
          },
          "geo": {
           "bgcolor": "white",
           "lakecolor": "white",
           "landcolor": "#E5ECF6",
           "showlakes": true,
           "showland": true,
           "subunitcolor": "white"
          },
          "hoverlabel": {
           "align": "left"
          },
          "hovermode": "closest",
          "mapbox": {
           "style": "light"
          },
          "paper_bgcolor": "white",
          "plot_bgcolor": "#E5ECF6",
          "polar": {
           "angularaxis": {
            "gridcolor": "white",
            "linecolor": "white",
            "ticks": ""
           },
           "bgcolor": "#E5ECF6",
           "radialaxis": {
            "gridcolor": "white",
            "linecolor": "white",
            "ticks": ""
           }
          },
          "scene": {
           "xaxis": {
            "backgroundcolor": "#E5ECF6",
            "gridcolor": "white",
            "gridwidth": 2,
            "linecolor": "white",
            "showbackground": true,
            "ticks": "",
            "zerolinecolor": "white"
           },
           "yaxis": {
            "backgroundcolor": "#E5ECF6",
            "gridcolor": "white",
            "gridwidth": 2,
            "linecolor": "white",
            "showbackground": true,
            "ticks": "",
            "zerolinecolor": "white"
           },
           "zaxis": {
            "backgroundcolor": "#E5ECF6",
            "gridcolor": "white",
            "gridwidth": 2,
            "linecolor": "white",
            "showbackground": true,
            "ticks": "",
            "zerolinecolor": "white"
           }
          },
          "shapedefaults": {
           "line": {
            "color": "#2a3f5f"
           }
          },
          "ternary": {
           "aaxis": {
            "gridcolor": "white",
            "linecolor": "white",
            "ticks": ""
           },
           "baxis": {
            "gridcolor": "white",
            "linecolor": "white",
            "ticks": ""
           },
           "bgcolor": "#E5ECF6",
           "caxis": {
            "gridcolor": "white",
            "linecolor": "white",
            "ticks": ""
           }
          },
          "title": {
           "x": 0.05
          },
          "xaxis": {
           "automargin": true,
           "gridcolor": "white",
           "linecolor": "white",
           "ticks": "",
           "title": {
            "standoff": 15
           },
           "zerolinecolor": "white",
           "zerolinewidth": 2
          },
          "yaxis": {
           "automargin": true,
           "gridcolor": "white",
           "linecolor": "white",
           "ticks": "",
           "title": {
            "standoff": 15
           },
           "zerolinecolor": "white",
           "zerolinewidth": 2
          }
         }
        },
        "title": {
         "text": "3D grid circuit"
        },
        "width": 650
       }
      },
      "image/png": "[encoded data removed]",
      "text/html": [
       "<div>                            <div id=\"3e5ce1d0-808d-425d-9943-4bb8096c1445\" class=\"plotly-graph-div\" style=\"height:625px; width:650px;\"></div>            <script type=\"text/javascript\">                require([\"plotly\"], function(Plotly) {                    window.PLOTLYENV=window.PLOTLYENV || {};                                    if (document.getElementById(\"3e5ce1d0-808d-425d-9943-4bb8096c1445\")) {                    Plotly.newPlot(                        \"3e5ce1d0-808d-425d-9943-4bb8096c1445\",                        [{\"hoverinfo\":\"none\",\"line\":{\"color\":\"rgba(185, 75, 75, 0.5)\",\"width\":2},\"mode\":\"lines\",\"x\":[0,0.5,0.5,0,0],\"y\":[0,0,0.5,0.5,0],\"z\":[0,0,0,0,0],\"type\":\"scatter3d\"},{\"hoverinfo\":\"none\",\"line\":{\"color\":\"rgba(185, 75, 75, 0.5)\",\"width\":2},\"mode\":\"lines\",\"x\":[0,0.5,0.5,0,0],\"y\":[0,0,0.5,0.5,0],\"z\":[0.5,0.5,0.5,0.5,0.5],\"type\":\"scatter3d\"},{\"hoverinfo\":\"none\",\"line\":{\"color\":\"rgba(185, 75, 75, 0.5)\",\"width\":2},\"mode\":\"lines\",\"x\":[0,0],\"y\":[0,0],\"z\":[0,0.5],\"type\":\"scatter3d\"},{\"hoverinfo\":\"none\",\"line\":{\"color\":\"rgba(185, 75, 75, 0.5)\",\"width\":2},\"mode\":\"lines\",\"x\":[0.5,0.5],\"y\":[0,0],\"z\":[0,0.5],\"type\":\"scatter3d\"},{\"hoverinfo\":\"none\",\"line\":{\"color\":\"rgba(185, 75, 75, 0.5)\",\"width\":2},\"mode\":\"lines\",\"x\":[0.5,0.5],\"y\":[0.5,0.5],\"z\":[0,0.5],\"type\":\"scatter3d\"},{\"hoverinfo\":\"none\",\"line\":{\"color\":\"rgba(185, 75, 75, 0.5)\",\"width\":2},\"mode\":\"lines\",\"x\":[0,0],\"y\":[0.5,0.5],\"z\":[0,0.5],\"type\":\"scatter3d\"},{\"hoverinfo\":\"text\",\"marker\":{\"color\":[1,1,1,1,1,1,1,1,1,1,1,1,1,1,1,1,1,1,1,1,0,0,0,0,0,0,0,0,0,0,0,0,0,0,0,0,0,0,0,0],\"colorscale\":[[0.0,\"lightgreen\"],[1.0,\"magenta\"]],\"size\":5,\"symbol\":\"circle\"},\"mode\":\"markers\",\"opacity\":0.5,\"text\":[\"0 (0.4, 0.3, 0.27)\",\"1 (0.2, 0.3, 0.45)\",\"2 (0.1, 0.1, 0.105)\",\"3 (0.1, 0.3, 0.375)\",\"4 (0.4, 0.4, 0.06)\",\"5 (0.2, 0.1, 0.135)\",\"6 (0.2, 0.4, 0.12)\",\"7 (0.4, 0.3, 0.105)\",\"8 (0.3, 0.3, 0.135)\",\"9 (0.3, 0.2, 0.12)\",\"10 (0.4, 0.4, 0.405)\",\"11 (0.1, 0.3, 0.18)\",\"12 (0.4, 0.2, 0.375)\",\"13 (0.3, 0.2, 0.24)\",\"14 (0.4, 0.1, 0.495)\",\"15 (0.3, 0.1, 0.345)\",\"16 (0.2, 0.2, 0.42)\",\"17 (0.3, 0.1, 0.36)\",\"18 (0.3, 0.3, 0.39)\",\"19 (0.4, 0.3, 0.135)\",\"20 (0.05507675185799599, -0.22627170383930206, 0.2886124849319458)\",\"21 (0.05382087826728821, -0.22371681034564972, 0.29034414887428284)\",\"22 (0.2552001476287842, 0.2099008858203888, 0.4131176769733429)\",\"23 (0.1187022477388382, 0.025464551523327827, 0.18062803149223328)\",\"24 (0.2756635546684265, 0.303741455078125, 0.32881298661231995)\",\"25 (0.2646920084953308, 0.20482683181762695, 0.4190504848957062)\",\"26 (0.212325781583786, 0.2660503685474396, 0.3352443277835846)\",\"27 (0.3063737154006958, 0.3779146671295166, 0.30289939045906067)\",\"28 (0.24977846443653107, 0.24980323016643524, 0.3398771286010742)\",\"29 (0.2333124727010727, 0.24508823454380035, 0.313565731048584)\",\"30 (0.25051915645599365, 0.3328734040260315, 0.27565664052963257)\",\"31 (0.2262120246887207, 0.29856306314468384, 0.34113824367523193)\",\"32 (0.22269205749034882, 0.2511601448059082, 0.3359133303165436)\",\"33 (0.19610844552516937, 0.19040663540363312, 0.35572549700737)\",\"34 (0.3027212619781494, 0.20912981033325195, 0.451358824968338)\",\"35 (0.22374971210956573, 0.2280765175819397, 0.3249441981315613)\",\"36 (0.2311561554670334, 0.3237670063972473, 0.45720192790031433)\",\"37 (0.2434549778699875, 0.2127106636762619, 0.3953353762626648)\",\"38 (0.21908342838287354, 0.251166969537735, 0.319898396730423)\",\"39 (0.4726628065109253, 0.2700250446796417, 0.06023965775966644)\"],\"x\":[0.4,0.2,0.1,0.1,0.4,0.2,0.2,0.4,0.3,0.3,0.4,0.1,0.4,0.3,0.4,0.3,0.2,0.3,0.3,0.4,0.05507675185799599,0.05382087826728821,0.2552001476287842,0.1187022477388382,0.2756635546684265,0.2646920084953308,0.212325781583786,0.3063737154006958,0.24977846443653107,0.2333124727010727,0.25051915645599365,0.2262120246887207,0.22269205749034882,0.19610844552516937,0.3027212619781494,0.22374971210956573,0.2311561554670334,0.2434549778699875,0.21908342838287354,0.4726628065109253],\"y\":[0.3,0.3,0.1,0.3,0.4,0.1,0.4,0.3,0.3,0.2,0.4,0.3,0.2,0.2,0.1,0.1,0.2,0.1,0.3,0.3,-0.22627170383930206,-0.22371681034564972,0.2099008858203888,0.025464551523327827,0.303741455078125,0.20482683181762695,0.2660503685474396,0.3779146671295166,0.24980323016643524,0.24508823454380035,0.3328734040260315,0.29856306314468384,0.2511601448059082,0.19040663540363312,0.20912981033325195,0.2280765175819397,0.3237670063972473,0.2127106636762619,0.251166969537735,0.2700250446796417],\"z\":[0.27,0.45,0.105,0.375,0.06,0.135,0.12,0.105,0.135,0.12,0.405,0.18,0.375,0.24,0.495,0.345,0.42,0.36,0.39,0.135,0.2886124849319458,0.29034414887428284,0.4131176769733429,0.18062803149223328,0.32881298661231995,0.4190504848957062,0.3352443277835846,0.30289939045906067,0.3398771286010742,0.313565731048584,0.27565664052963257,0.34113824367523193,0.3359133303165436,0.35572549700737,0.451358824968338,0.3249441981315613,0.45720192790031433,0.3953353762626648,0.319898396730423,0.06023965775966644],\"type\":\"scatter3d\"},{\"hoverinfo\":\"none\",\"line\":{\"color\":\"rgba(74, 54, 54, 1)\",\"width\":2},\"mode\":\"lines\",\"x\":[0.4,0.05507675185799599,null,0.2,0.05382087826728821,null,0.1,0.2552001476287842,null,0.1,0.1187022477388382,null,0.4,0.2756635546684265,null,0.2,0.2646920084953308,null,0.2,0.212325781583786,null,0.4,0.3063737154006958,null,0.3,0.24977846443653107,null,0.3,0.2333124727010727,null,0.4,0.25051915645599365,null,0.1,0.2262120246887207,null,0.4,0.22269205749034882,null,0.3,0.19610844552516937,null,0.4,0.3027212619781494,null,0.3,0.22374971210956573,null,0.2,0.2311561554670334,null,0.3,0.2434549778699875,null,0.3,0.21908342838287354,null,0.4,0.4726628065109253,null],\"y\":[0.3,-0.22627170383930206,null,0.3,-0.22371681034564972,null,0.1,0.2099008858203888,null,0.3,0.025464551523327827,null,0.4,0.303741455078125,null,0.1,0.20482683181762695,null,0.4,0.2660503685474396,null,0.3,0.3779146671295166,null,0.3,0.24980323016643524,null,0.2,0.24508823454380035,null,0.4,0.3328734040260315,null,0.3,0.29856306314468384,null,0.2,0.2511601448059082,null,0.2,0.19040663540363312,null,0.1,0.20912981033325195,null,0.1,0.2280765175819397,null,0.2,0.3237670063972473,null,0.1,0.2127106636762619,null,0.3,0.251166969537735,null,0.3,0.2700250446796417,null],\"z\":[0.27,0.2886124849319458,null,0.45,0.29034414887428284,null,0.105,0.4131176769733429,null,0.375,0.18062803149223328,null,0.06,0.32881298661231995,null,0.135,0.4190504848957062,null,0.12,0.3352443277835846,null,0.105,0.30289939045906067,null,0.135,0.3398771286010742,null,0.12,0.313565731048584,null,0.405,0.27565664052963257,null,0.18,0.34113824367523193,null,0.375,0.3359133303165436,null,0.24,0.35572549700737,null,0.495,0.451358824968338,null,0.345,0.3249441981315613,null,0.42,0.45720192790031433,null,0.36,0.3953353762626648,null,0.39,0.319898396730423,null,0.135,0.06023965775966644,null],\"type\":\"scatter3d\"}],                        {\"height\":625,\"hovermode\":\"closest\",\"margin\":{\"t\":100},\"scene\":{\"xaxis\":{\"showbackground\":false,\"showgrid\":false,\"showline\":false,\"showticklabels\":false,\"title\":{\"text\":\"\"},\"zeroline\":false},\"yaxis\":{\"showbackground\":false,\"showgrid\":false,\"showline\":false,\"showticklabels\":false,\"title\":{\"text\":\"\"},\"zeroline\":false},\"zaxis\":{\"showbackground\":false,\"showgrid\":false,\"showline\":false,\"showticklabels\":false,\"title\":{\"text\":\"\"},\"zeroline\":false}},\"showlegend\":false,\"title\":{\"text\":\"3D grid circuit\"},\"width\":650,\"template\":{\"data\":{\"bar\":[{\"error_x\":{\"color\":\"#2a3f5f\"},\"error_y\":{\"color\":\"#2a3f5f\"},\"marker\":{\"line\":{\"color\":\"#E5ECF6\",\"width\":0.5},\"pattern\":{\"fillmode\":\"overlay\",\"size\":10,\"solidity\":0.2}},\"type\":\"bar\"}],\"barpolar\":[{\"marker\":{\"line\":{\"color\":\"#E5ECF6\",\"width\":0.5},\"pattern\":{\"fillmode\":\"overlay\",\"size\":10,\"solidity\":0.2}},\"type\":\"barpolar\"}],\"carpet\":[{\"aaxis\":{\"endlinecolor\":\"#2a3f5f\",\"gridcolor\":\"white\",\"linecolor\":\"white\",\"minorgridcolor\":\"white\",\"startlinecolor\":\"#2a3f5f\"},\"baxis\":{\"endlinecolor\":\"#2a3f5f\",\"gridcolor\":\"white\",\"linecolor\":\"white\",\"minorgridcolor\":\"white\",\"startlinecolor\":\"#2a3f5f\"},\"type\":\"carpet\"}],\"choropleth\":[{\"colorbar\":{\"outlinewidth\":0,\"ticks\":\"\"},\"type\":\"choropleth\"}],\"contour\":[{\"colorbar\":{\"outlinewidth\":0,\"ticks\":\"\"},\"colorscale\":[[0.0,\"#0d0887\"],[0.1111111111111111,\"#46039f\"],[0.2222222222222222,\"#7201a8\"],[0.3333333333333333,\"#9c179e\"],[0.4444444444444444,\"#bd3786\"],[0.5555555555555556,\"#d8576b\"],[0.6666666666666666,\"#ed7953\"],[0.7777777777777778,\"#fb9f3a\"],[0.8888888888888888,\"#fdca26\"],[1.0,\"#f0f921\"]],\"type\":\"contour\"}],\"contourcarpet\":[{\"colorbar\":{\"outlinewidth\":0,\"ticks\":\"\"},\"type\":\"contourcarpet\"}],\"heatmap\":[{\"colorbar\":{\"outlinewidth\":0,\"ticks\":\"\"},\"colorscale\":[[0.0,\"#0d0887\"],[0.1111111111111111,\"#46039f\"],[0.2222222222222222,\"#7201a8\"],[0.3333333333333333,\"#9c179e\"],[0.4444444444444444,\"#bd3786\"],[0.5555555555555556,\"#d8576b\"],[0.6666666666666666,\"#ed7953\"],[0.7777777777777778,\"#fb9f3a\"],[0.8888888888888888,\"#fdca26\"],[1.0,\"#f0f921\"]],\"type\":\"heatmap\"}],\"heatmapgl\":[{\"colorbar\":{\"outlinewidth\":0,\"ticks\":\"\"},\"colorscale\":[[0.0,\"#0d0887\"],[0.1111111111111111,\"#46039f\"],[0.2222222222222222,\"#7201a8\"],[0.3333333333333333,\"#9c179e\"],[0.4444444444444444,\"#bd3786\"],[0.5555555555555556,\"#d8576b\"],[0.6666666666666666,\"#ed7953\"],[0.7777777777777778,\"#fb9f3a\"],[0.8888888888888888,\"#fdca26\"],[1.0,\"#f0f921\"]],\"type\":\"heatmapgl\"}],\"histogram\":[{\"marker\":{\"pattern\":{\"fillmode\":\"overlay\",\"size\":10,\"solidity\":0.2}},\"type\":\"histogram\"}],\"histogram2d\":[{\"colorbar\":{\"outlinewidth\":0,\"ticks\":\"\"},\"colorscale\":[[0.0,\"#0d0887\"],[0.1111111111111111,\"#46039f\"],[0.2222222222222222,\"#7201a8\"],[0.3333333333333333,\"#9c179e\"],[0.4444444444444444,\"#bd3786\"],[0.5555555555555556,\"#d8576b\"],[0.6666666666666666,\"#ed7953\"],[0.7777777777777778,\"#fb9f3a\"],[0.8888888888888888,\"#fdca26\"],[1.0,\"#f0f921\"]],\"type\":\"histogram2d\"}],\"histogram2dcontour\":[{\"colorbar\":{\"outlinewidth\":0,\"ticks\":\"\"},\"colorscale\":[[0.0,\"#0d0887\"],[0.1111111111111111,\"#46039f\"],[0.2222222222222222,\"#7201a8\"],[0.3333333333333333,\"#9c179e\"],[0.4444444444444444,\"#bd3786\"],[0.5555555555555556,\"#d8576b\"],[0.6666666666666666,\"#ed7953\"],[0.7777777777777778,\"#fb9f3a\"],[0.8888888888888888,\"#fdca26\"],[1.0,\"#f0f921\"]],\"type\":\"histogram2dcontour\"}],\"mesh3d\":[{\"colorbar\":{\"outlinewidth\":0,\"ticks\":\"\"},\"type\":\"mesh3d\"}],\"parcoords\":[{\"line\":{\"colorbar\":{\"outlinewidth\":0,\"ticks\":\"\"}},\"type\":\"parcoords\"}],\"pie\":[{\"automargin\":true,\"type\":\"pie\"}],\"scatter\":[{\"marker\":{\"colorbar\":{\"outlinewidth\":0,\"ticks\":\"\"}},\"type\":\"scatter\"}],\"scatter3d\":[{\"line\":{\"colorbar\":{\"outlinewidth\":0,\"ticks\":\"\"}},\"marker\":{\"colorbar\":{\"outlinewidth\":0,\"ticks\":\"\"}},\"type\":\"scatter3d\"}],\"scattercarpet\":[{\"marker\":{\"colorbar\":{\"outlinewidth\":0,\"ticks\":\"\"}},\"type\":\"scattercarpet\"}],\"scattergeo\":[{\"marker\":{\"colorbar\":{\"outlinewidth\":0,\"ticks\":\"\"}},\"type\":\"scattergeo\"}],\"scattergl\":[{\"marker\":{\"colorbar\":{\"outlinewidth\":0,\"ticks\":\"\"}},\"type\":\"scattergl\"}],\"scattermapbox\":[{\"marker\":{\"colorbar\":{\"outlinewidth\":0,\"ticks\":\"\"}},\"type\":\"scattermapbox\"}],\"scatterpolar\":[{\"marker\":{\"colorbar\":{\"outlinewidth\":0,\"ticks\":\"\"}},\"type\":\"scatterpolar\"}],\"scatterpolargl\":[{\"marker\":{\"colorbar\":{\"outlinewidth\":0,\"ticks\":\"\"}},\"type\":\"scatterpolargl\"}],\"scatterternary\":[{\"marker\":{\"colorbar\":{\"outlinewidth\":0,\"ticks\":\"\"}},\"type\":\"scatterternary\"}],\"surface\":[{\"colorbar\":{\"outlinewidth\":0,\"ticks\":\"\"},\"colorscale\":[[0.0,\"#0d0887\"],[0.1111111111111111,\"#46039f\"],[0.2222222222222222,\"#7201a8\"],[0.3333333333333333,\"#9c179e\"],[0.4444444444444444,\"#bd3786\"],[0.5555555555555556,\"#d8576b\"],[0.6666666666666666,\"#ed7953\"],[0.7777777777777778,\"#fb9f3a\"],[0.8888888888888888,\"#fdca26\"],[1.0,\"#f0f921\"]],\"type\":\"surface\"}],\"table\":[{\"cells\":{\"fill\":{\"color\":\"#EBF0F8\"},\"line\":{\"color\":\"white\"}},\"header\":{\"fill\":{\"color\":\"#C8D4E3\"},\"line\":{\"color\":\"white\"}},\"type\":\"table\"}]},\"layout\":{\"annotationdefaults\":{\"arrowcolor\":\"#2a3f5f\",\"arrowhead\":0,\"arrowwidth\":1},\"autotypenumbers\":\"strict\",\"coloraxis\":{\"colorbar\":{\"outlinewidth\":0,\"ticks\":\"\"}},\"colorscale\":{\"diverging\":[[0,\"#8e0152\"],[0.1,\"#c51b7d\"],[0.2,\"#de77ae\"],[0.3,\"#f1b6da\"],[0.4,\"#fde0ef\"],[0.5,\"#f7f7f7\"],[0.6,\"#e6f5d0\"],[0.7,\"#b8e186\"],[0.8,\"#7fbc41\"],[0.9,\"#4d9221\"],[1,\"#276419\"]],\"sequential\":[[0.0,\"#0d0887\"],[0.1111111111111111,\"#46039f\"],[0.2222222222222222,\"#7201a8\"],[0.3333333333333333,\"#9c179e\"],[0.4444444444444444,\"#bd3786\"],[0.5555555555555556,\"#d8576b\"],[0.6666666666666666,\"#ed7953\"],[0.7777777777777778,\"#fb9f3a\"],[0.8888888888888888,\"#fdca26\"],[1.0,\"#f0f921\"]],\"sequentialminus\":[[0.0,\"#0d0887\"],[0.1111111111111111,\"#46039f\"],[0.2222222222222222,\"#7201a8\"],[0.3333333333333333,\"#9c179e\"],[0.4444444444444444,\"#bd3786\"],[0.5555555555555556,\"#d8576b\"],[0.6666666666666666,\"#ed7953\"],[0.7777777777777778,\"#fb9f3a\"],[0.8888888888888888,\"#fdca26\"],[1.0,\"#f0f921\"]]},\"colorway\":[\"#636efa\",\"#EF553B\",\"#00cc96\",\"#ab63fa\",\"#FFA15A\",\"#19d3f3\",\"#FF6692\",\"#B6E880\",\"#FF97FF\",\"#FECB52\"],\"font\":{\"color\":\"#2a3f5f\"},\"geo\":{\"bgcolor\":\"white\",\"lakecolor\":\"white\",\"landcolor\":\"#E5ECF6\",\"showlakes\":true,\"showland\":true,\"subunitcolor\":\"white\"},\"hoverlabel\":{\"align\":\"left\"},\"hovermode\":\"closest\",\"mapbox\":{\"style\":\"light\"},\"paper_bgcolor\":\"white\",\"plot_bgcolor\":\"#E5ECF6\",\"polar\":{\"angularaxis\":{\"gridcolor\":\"white\",\"linecolor\":\"white\",\"ticks\":\"\"},\"bgcolor\":\"#E5ECF6\",\"radialaxis\":{\"gridcolor\":\"white\",\"linecolor\":\"white\",\"ticks\":\"\"}},\"scene\":{\"xaxis\":{\"backgroundcolor\":\"#E5ECF6\",\"gridcolor\":\"white\",\"gridwidth\":2,\"linecolor\":\"white\",\"showbackground\":true,\"ticks\":\"\",\"zerolinecolor\":\"white\"},\"yaxis\":{\"backgroundcolor\":\"#E5ECF6\",\"gridcolor\":\"white\",\"gridwidth\":2,\"linecolor\":\"white\",\"showbackground\":true,\"ticks\":\"\",\"zerolinecolor\":\"white\"},\"zaxis\":{\"backgroundcolor\":\"#E5ECF6\",\"gridcolor\":\"white\",\"gridwidth\":2,\"linecolor\":\"white\",\"showbackground\":true,\"ticks\":\"\",\"zerolinecolor\":\"white\"}},\"shapedefaults\":{\"line\":{\"color\":\"#2a3f5f\"}},\"ternary\":{\"aaxis\":{\"gridcolor\":\"white\",\"linecolor\":\"white\",\"ticks\":\"\"},\"baxis\":{\"gridcolor\":\"white\",\"linecolor\":\"white\",\"ticks\":\"\"},\"bgcolor\":\"#E5ECF6\",\"caxis\":{\"gridcolor\":\"white\",\"linecolor\":\"white\",\"ticks\":\"\"}},\"title\":{\"x\":0.05},\"xaxis\":{\"automargin\":true,\"gridcolor\":\"white\",\"linecolor\":\"white\",\"ticks\":\"\",\"title\":{\"standoff\":15},\"zerolinecolor\":\"white\",\"zerolinewidth\":2},\"yaxis\":{\"automargin\":true,\"gridcolor\":\"white\",\"linecolor\":\"white\",\"ticks\":\"\",\"title\":{\"standoff\":15},\"zerolinecolor\":\"white\",\"zerolinewidth\":2}}}},                        {\"responsive\": true}                    ).then(function(){\n",
       "                            \n",
       "var gd = document.getElementById('3e5ce1d0-808d-425d-9943-4bb8096c1445');\n",
       "var x = new MutationObserver(function (mutations, observer) {{\n",
       "        var display = window.getComputedStyle(gd).display;\n",
       "        if (!display || display === 'none') {{\n",
       "            console.log([gd, 'removed!']);\n",
       "            Plotly.purge(gd);\n",
       "            observer.disconnect();\n",
       "        }}\n",
       "}});\n",
       "\n",
       "// Listen for the removal of the full notebook cells\n",
       "var notebookContainer = gd.closest('#notebook-container');\n",
       "if (notebookContainer) {{\n",
       "    x.observe(notebookContainer, {childList: true});\n",
       "}}\n",
       "\n",
       "// Listen for the clearing of the current output cell\n",
       "var outputEl = gd.closest('.output');\n",
       "if (outputEl) {{\n",
       "    x.observe(outputEl, {childList: true});\n",
       "}}\n",
       "\n",
       "                        })                };                });            </script>        </div>"
      ]
     },
     "metadata": {},
     "output_type": "display_data"
    }
   ],
   "source": [
    "draw_main_circuit(make_gr(y_test, yhat))"
   ]
  },
  {
   "cell_type": "code",
   "execution_count": 449,
   "metadata": {
    "colab": {
     "base_uri": "https://localhost:8080/",
     "height": 385
    },
    "id": "20W6TQIp2j1L",
    "outputId": "5ffdd63d-f4da-43b7-d65a-de3dd8b17576"
   },
   "outputs": [
    {
     "data": {
      "image/png": "[encoded data removed]",
      "text/plain": [
       "<Figure size 1080x360 with 3 Axes>"
      ]
     },
     "metadata": {
      "needs_background": "light"
     },
     "output_type": "display_data"
    }
   ],
   "source": [
    "plot_dist_error_xyz(y_test, yhat)"
   ]
  },
  {
   "cell_type": "code",
   "execution_count": 450,
   "metadata": {
    "colab": {
     "base_uri": "https://localhost:8080/"
    },
    "id": "YEuDpsjOnIEp",
    "outputId": "aabdb99d-8d97-4bef-f87a-001fb17e5fc2"
   },
   "outputs": [
    {
     "name": "stdout",
     "output_type": "stream",
     "text": [
      "mean distance: 0.0445\n",
      "min :  0.0, max :  0.6295, Range: 0.6295\n",
      "---\n",
      "dist <= 0.05:  82.14 %\n",
      "dist <= 0.1:   82.14 %\n",
      "dist <= 0.2:   89.29 %\n"
     ]
    }
   ],
   "source": [
    "error_dist = descr(y_test, yhat)"
   ]
  },
  {
   "cell_type": "code",
   "execution_count": 416,
   "metadata": {
    "colab": {
     "base_uri": "https://localhost:8080/",
     "height": 450
    },
    "id": "zjX2IW0RnH7q",
    "outputId": "e36e0450-7e3f-4baa-cb8d-26618d279c80"
   },
   "outputs": [
    {
     "data": {
      "text/plain": [
       "<Figure size 720x504 with 0 Axes>"
      ]
     },
     "metadata": {},
     "output_type": "display_data"
    },
    {
     "data": {
      "image/png": "[encoded data removed]",
      "text/plain": [
       "<Figure size 360x360 with 1 Axes>"
      ]
     },
     "metadata": {
      "needs_background": "light"
     },
     "output_type": "display_data"
    }
   ],
   "source": [
    "hist_dist_error(y_test, yhat, error_dist)"
   ]
  },
  {
   "cell_type": "markdown",
   "metadata": {
    "id": "Y5kDWhweaxhM"
   },
   "source": [
    "# other"
   ]
  },
  {
   "cell_type": "code",
   "execution_count": null,
   "metadata": {
    "id": "Kldj_JSsavx0"
   },
   "outputs": [],
   "source": [
    "data = df.iloc[:, 1:-3].to_numpy()\n",
    "n = 216\n",
    "index = -1\n",
    "\n",
    "X = np.zeros((n, n))\n",
    "tmp = data[index]\n",
    "step = n - 1\n",
    "next_pos = 0\n",
    "for i in range(n):\n",
    "    X[i, i+1:] = tmp[next_pos:next_pos+step]\n",
    "    next_pos += step\n",
    "    step -= 1"
   ]
  },
  {
   "cell_type": "code",
   "execution_count": null,
   "metadata": {
    "colab": {
     "base_uri": "https://localhost:8080/",
     "height": 269
    },
    "id": "HIB7CGQSa-2R",
    "outputId": "4a267a51-18cb-4348-a914-1a81c19e7a27"
   },
   "outputs": [
    {
     "data": {
      "image/png": "[encoded data removed]",
      "text/plain": [
       "<Figure size 432x288 with 1 Axes>"
      ]
     },
     "metadata": {
      "needs_background": "light"
     },
     "output_type": "display_data"
    }
   ],
   "source": [
    "plt.imshow(X, interpolation='nearest')\n",
    "plt.show()"
   ]
  },
  {
   "cell_type": "code",
   "execution_count": null,
   "metadata": {
    "id": "BGFOWSXja-5U"
   },
   "outputs": [],
   "source": []
  },
  {
   "cell_type": "code",
   "execution_count": 14,
   "metadata": {},
   "outputs": [
    {
     "data": {
      "text/html": [
       "<div>\n",
       "<style scoped>\n",
       "    .dataframe tbody tr th:only-of-type {\n",
       "        vertical-align: middle;\n",
       "    }\n",
       "\n",
       "    .dataframe tbody tr th {\n",
       "        vertical-align: top;\n",
       "    }\n",
       "\n",
       "    .dataframe thead th {\n",
       "        text-align: right;\n",
       "    }\n",
       "</style>\n",
       "<table border=\"1\" class=\"dataframe\">\n",
       "  <thead>\n",
       "    <tr style=\"text-align: right;\">\n",
       "      <th></th>\n",
       "      <th>a</th>\n",
       "      <th>b</th>\n",
       "      <th>c</th>\n",
       "    </tr>\n",
       "  </thead>\n",
       "  <tbody>\n",
       "    <tr>\n",
       "      <th>0</th>\n",
       "      <td>1</td>\n",
       "      <td>2</td>\n",
       "      <td>3</td>\n",
       "    </tr>\n",
       "    <tr>\n",
       "      <th>1</th>\n",
       "      <td>4</td>\n",
       "      <td>5</td>\n",
       "      <td>6</td>\n",
       "    </tr>\n",
       "    <tr>\n",
       "      <th>2</th>\n",
       "      <td>7</td>\n",
       "      <td>8</td>\n",
       "      <td>9</td>\n",
       "    </tr>\n",
       "  </tbody>\n",
       "</table>\n",
       "</div>"
      ],
      "text/plain": [
       "   a  b  c\n",
       "0  1  2  3\n",
       "1  4  5  6\n",
       "2  7  8  9"
      ]
     },
     "execution_count": 14,
     "metadata": {},
     "output_type": "execute_result"
    }
   ],
   "source": [
    "daa = pd.DataFrame(np.array([[1, 2, 3], [4, 5, 6], [7, 8, 9]]),\n",
    "                    columns=['a', 'b', 'c'])\n",
    "daa"
   ]
  },
  {
   "cell_type": "code",
   "execution_count": null,
   "metadata": {},
   "outputs": [],
   "source": []
  },
  {
   "cell_type": "code",
   "execution_count": null,
   "metadata": {},
   "outputs": [],
   "source": []
  },
  {
   "cell_type": "markdown",
   "metadata": {},
   "source": [
    "# Feature importance"
   ]
  },
  {
   "cell_type": "code",
   "execution_count": 6,
   "metadata": {},
   "outputs": [],
   "source": [
    "import os\n",
    "from tqdm import tqdm"
   ]
  },
  {
   "cell_type": "code",
   "execution_count": 71,
   "metadata": {},
   "outputs": [],
   "source": [
    "def fi_trace_nodes(g):\n",
    "    \"\"\"\n",
    "    Trace nodes for main plot.\n",
    "    If `sep_nodes_by_color` is True, fucntion require `nodes_split`.\n",
    "    \"\"\"\n",
    "    node_text = [f'{n}' for n in g.nodes()]\n",
    "\n",
    "    coords = nx.get_node_attributes(g, 'coords')\n",
    "    c = 'fuchsia'\n",
    "    color_scale = None\n",
    "\n",
    "    trace_nodes = go.Scatter3d(x=[coords[i][0] for i in coords.keys()],\n",
    "                               y=[coords[i][1] for i in coords.keys()],\n",
    "                               z=[coords[i][2] for i in coords.keys()],\n",
    "                               mode='markers',\n",
    "                               marker=dict(symbol='circle', size=6, color=c, colorscale=color_scale),\n",
    "                               opacity=0.5,\n",
    "                               text=node_text, hoverinfo='text')\n",
    "\n",
    "    return trace_nodes"
   ]
  },
  {
   "cell_type": "code",
   "execution_count": 72,
   "metadata": {},
   "outputs": [],
   "source": [
    "def edges_coords__(coords, g_edges):\n",
    "    \"\"\"\n",
    "    Create coordinates of edges\n",
    "\n",
    "    Parameters\n",
    "    ----------\n",
    "    coords: dict\n",
    "        dict of coordinates of nodes: {node: (x,y,z), ...}\n",
    "    g_edges: 2d array\n",
    "        Array containing edges\n",
    "\n",
    "    Returnes\n",
    "    --------\n",
    "    x_edges, y_edges, z_edges: arrays\n",
    "        For edges [(n1, n2), ...] arrays have form [n1_x, n2_x, None, ...]\n",
    "    \"\"\"\n",
    "    x_edges=[]\n",
    "    y_edges=[]\n",
    "    z_edges=[]\n",
    "\n",
    "    for edge in g_edges:\n",
    "        x_coords = [coords[edge[0]][0],coords[edge[1]][0],None]\n",
    "        x_edges += x_coords\n",
    "\n",
    "        y_coords = [coords[edge[0]][1],coords[edge[1]][1],None]\n",
    "        y_edges += y_coords\n",
    "\n",
    "        z_coords = [coords[edge[0]][2],coords[edge[1]][2],None]\n",
    "        z_edges += z_coords\n",
    "\n",
    "    return x_edges, y_edges, z_edges\n",
    "\n",
    "def fi_trace_edges(g, edges_split):\n",
    "    \"\"\"\n",
    "    Trace edges for main plot.\n",
    "    If `sep_edges_by_color` is True, fucntion require `edges_split`.\n",
    "    \"\"\"\n",
    "    trace_edges = []\n",
    "\n",
    "    coords = nx.get_node_attributes(g, 'coords')\n",
    "    g_edges = np.array(list(g.edges()))\n",
    "\n",
    "    colors = ['rgba(20, 20, 20, 0.3)', 'rgba(125, 57, 57, 1.)']\n",
    "\n",
    "    for i,w in zip([0,1], [2,6]):\n",
    "        x_edges, y_edges, z_edges = edges_coords__(coords, g_edges[edges_split == i])\n",
    "        trace_edges.append(\n",
    "            go.Scatter3d(x=x_edges, y=y_edges, z=z_edges,\n",
    "                         mode='lines', line=dict(color=colors[i], width=w), hoverinfo='none')\n",
    "        )\n",
    "        \n",
    "    return trace_edges"
   ]
  },
  {
   "cell_type": "code",
   "execution_count": 73,
   "metadata": {},
   "outputs": [],
   "source": [
    "def draw_cube(cube_dim):\n",
    "    \"\"\"\n",
    "    Draw cube which has unit dimensions [d x d x d]\n",
    "    \"\"\"\n",
    "    d = cube_dim\n",
    "    x = [0, d, d, 0, 0]\n",
    "    y = [0, 0, d, d, 0]\n",
    "    z1 = [0, 0, 0, 0, 0]\n",
    "    z2 = [d, d, d, d, d]\n",
    "\n",
    "    trace = []\n",
    "    e_color = 'rgba(20, 20, 20, 0.9)'\n",
    "    line_width = 3\n",
    "\n",
    "    # trace top and bottom\n",
    "    trace.append(go.Scatter3d(x=x, y=y, z=z1, mode='lines',\n",
    "                              line=dict(color=e_color, width=line_width), hoverinfo='none'))\n",
    "    trace.append(go.Scatter3d(x=x, y=y, z=z2, mode='lines',\n",
    "                              line=dict(color=e_color, width=line_width), hoverinfo='none'))\n",
    "\n",
    "    # trace 4 vertical lines\n",
    "    for i in range(4):\n",
    "        trace.append(\n",
    "            go.Scatter3d(x=[x[i],x[i]], y=[y[i],y[i]], z=[z1[0],z2[0]], mode='lines',\n",
    "                         line=dict(color=e_color, width=line_width), hoverinfo='none')\n",
    "            )\n",
    "\n",
    "    return trace"
   ]
  },
  {
   "cell_type": "code",
   "execution_count": 69,
   "metadata": {},
   "outputs": [],
   "source": [
    "def trace_setup__(g, edges_colorscale):\n",
    "    data = []\n",
    "    data.extend(draw_cube(cube_dim=0.5))\n",
    "    \n",
    "    tr_nodes = fi_trace_nodes(g)\n",
    "    tr_edges = fi_trace_edges(g, edges_colorscale)\n",
    "    data.extend([*tr_edges, tr_nodes])\n",
    "    return data\n",
    "\n",
    "\n",
    "def fi_draw_one_case(g, most_imp_fs):\n",
    "    \n",
    "    edges_colorscale = np.array([0] * g.number_of_edges())\n",
    "    for i,e in enumerate(g.edges()):\n",
    "        if (f'U_{e[0]}_{e[1]}' in most_imp_fs) or (f'U_{e[1]}_{e[0]}' in most_imp_fs):\n",
    "            edges_colorscale[i] = 1\n",
    "\n",
    "    data = trace_setup__(g, edges_colorscale)\n",
    "\n",
    "    axis = dict(showbackground=False, showline=False, zeroline=False,\n",
    "                showgrid=False, showticklabels=False, title='')\n",
    "    camera = dict(\n",
    "        up=dict(x=0, y=0, z=1),\n",
    "        center=dict(x=0, y=0, z=0),\n",
    "        eye=dict(x=1, y=2, z=1.2)\n",
    "    )\n",
    "    layout = go.Layout(title=\"3D grid circuit\",\n",
    "                       scene_camera=camera,\n",
    "                       width=1080, height=1080,\n",
    "                       showlegend=False,\n",
    "                       scene=dict(xaxis=dict(axis), yaxis=dict(axis), zaxis=dict(axis)),\n",
    "                       margin=dict(t=100),\n",
    "                       hovermode='closest')\n",
    "\n",
    "    fig = go.Figure(data=data, layout=layout)\n",
    "    fig.show()"
   ]
  },
  {
   "cell_type": "code",
   "execution_count": 12,
   "metadata": {},
   "outputs": [],
   "source": [
    "# ==================\n",
    "# !!! DELETE sep=';'\n",
    "# ==================\n",
    "\n",
    "\n",
    "class cnt_data(object):\n",
    "    def __init__(self, data_path, labels_path, save_to, update):\n",
    "        # labels\n",
    "        self.__labels = pd.read_csv(labels_path, index_col=0, sep=';')\n",
    "        \n",
    "        # initial graph object\n",
    "        self.graph = self.__get_initial_graph(data_path)\n",
    "        # dataframe with cracks + initial case\n",
    "        self.df = self.__graphs2df(data_path, save_to, update)\n",
    "        \n",
    "    def __make_df(self, data_path):\n",
    "        graphs_ids = list(self.__labels[~self.__labels.isnull().any(axis=1)].index)\n",
    "        # to make initial graph last\n",
    "        graphs_ids.append(self.__labels[self.__labels.isnull().any(axis=1)].index.item())\n",
    "        \n",
    "        feature_names = [f'U_{e[0]}_{e[1]}' for e in self.graph.edges()]\n",
    "        feature_names.extend(['g_name', 'x', 'y', 'z'])\n",
    "\n",
    "        df = pd.DataFrame(columns=feature_names)\n",
    "        \n",
    "        for idx in tqdm(graphs_ids):\n",
    "            g_name = self.__labels.loc[idx, 'g_name']\n",
    "\n",
    "            g = nx.read_gml(os.path.join(data_path, 'graphs', g_name))\n",
    "\n",
    "            df.loc[idx, feature_names[:-4]] = [g.edges[e]['U'] for e in g.edges()]\n",
    "\n",
    "            df.loc[idx, ['g_name', 'x', 'y', 'z']] = [g_name,\n",
    "                                                      self.__labels.loc[idx, 'x'],\n",
    "                                                      self.__labels.loc[idx, 'y'],\n",
    "                                                      self.__labels.loc[idx, 'z']]\n",
    "\n",
    "            del g\n",
    "        return df\n",
    "        \n",
    "    def __graphs2df(self, data_path, save_to, update):\n",
    "        if save_to in os.listdir(data_path) and not update:\n",
    "            return pd.read_csv(os.path.join(data_path, save_to), index_col=0)\n",
    "        else:\n",
    "            df = self.__make_df(data_path)\n",
    "            df.to_csv(os.path.join(data_path, save_to))\n",
    "            return df\n",
    "    \n",
    "    def __get_initial_graph(self, data_path):\n",
    "        # find index of initial graph in table of labels\n",
    "        idx = self.__labels[self.__labels.isnull().any(axis=1)].index.item()\n",
    "        \n",
    "        return nx.read_gml(\n",
    "            os.path.join(data_path, 'graphs', self.__labels.loc[idx, 'g_name']))"
   ]
  },
  {
   "cell_type": "code",
   "execution_count": 359,
   "metadata": {},
   "outputs": [],
   "source": [
    "# data = cnt_data(data_path, labels_path, save_to='df_full.csv', update=True)"
   ]
  },
  {
   "cell_type": "code",
   "execution_count": 32,
   "metadata": {},
   "outputs": [],
   "source": [
    "data_path = '/Users/glebcom/Desktop/skoltech/research/nb/data'\n",
    "labels_path = '/Users/glebcom/Desktop/skoltech/research/nb/data/df_labels.csv'\n",
    "\n",
    "data = cnt_data(data_path, labels_path, save_to='df_full.csv', update=False)\n",
    "df = data.df\n",
    "df_scaled = df_transform(df)"
   ]
  },
  {
   "cell_type": "code",
   "execution_count": 33,
   "metadata": {},
   "outputs": [],
   "source": [
    "X = df_scaled[df_scaled.columns[:-4]].iloc[:-1] #.to_numpy())\n",
    "y = df_scaled[df_scaled.columns[-3:]].iloc[:-1] #.to_numpy()"
   ]
  },
  {
   "cell_type": "code",
   "execution_count": 26,
   "metadata": {
    "id": "O5WP6JKea-8L"
   },
   "outputs": [
    {
     "name": "stdout",
     "output_type": "stream",
     "text": [
      "train:\t423\n",
      "test:\t106\n"
     ]
    }
   ],
   "source": [
    "X_train, X_test, y_train, y_test = train_test_split(X, y, test_size=0.2,\n",
    "                                                    shuffle=True, random_state=42)\n",
    "\n",
    "print(f'train:\\t{len(y_train)}\\ntest:\\t{len(y_test)}')"
   ]
  },
  {
   "cell_type": "code",
   "execution_count": 34,
   "metadata": {},
   "outputs": [],
   "source": [
    "regr_multirf = MultiOutputRegressor(RandomForestRegressor(n_estimators = 100))\n",
    "regr_multirf = regr_multirf.fit(X, y)\n",
    "\n",
    "no_est = 0 # index of target you want feature importance for\n",
    "est = regr_multirf.estimators_[0]\n",
    "\n",
    "features_names = X.columns\n",
    "importances = est.feature_importances_\n",
    "importances_idx = np.argsort(importances)[::-1]\n",
    "\n",
    "rf_importances = pd.DataFrame(columns=['feature', 'importance'])\n",
    "for i,idx in enumerate(importances_idx):\n",
    "    rf_importances.loc[i, :] = [features_names[idx], importances[idx]]"
   ]
  },
  {
   "cell_type": "code",
   "execution_count": 35,
   "metadata": {},
   "outputs": [
    {
     "data": {
      "text/html": [
       "<div>\n",
       "<style scoped>\n",
       "    .dataframe tbody tr th:only-of-type {\n",
       "        vertical-align: middle;\n",
       "    }\n",
       "\n",
       "    .dataframe tbody tr th {\n",
       "        vertical-align: top;\n",
       "    }\n",
       "\n",
       "    .dataframe thead th {\n",
       "        text-align: right;\n",
       "    }\n",
       "</style>\n",
       "<table border=\"1\" class=\"dataframe\">\n",
       "  <thead>\n",
       "    <tr style=\"text-align: right;\">\n",
       "      <th></th>\n",
       "      <th>feature</th>\n",
       "      <th>importance</th>\n",
       "    </tr>\n",
       "  </thead>\n",
       "  <tbody>\n",
       "    <tr>\n",
       "      <th>0</th>\n",
       "      <td>U_1062_1623</td>\n",
       "      <td>0.31968</td>\n",
       "    </tr>\n",
       "    <tr>\n",
       "      <th>1</th>\n",
       "      <td>U_18_1563</td>\n",
       "      <td>0.084557</td>\n",
       "    </tr>\n",
       "    <tr>\n",
       "      <th>2</th>\n",
       "      <td>U_169_18</td>\n",
       "      <td>0.063583</td>\n",
       "    </tr>\n",
       "    <tr>\n",
       "      <th>3</th>\n",
       "      <td>U_169_617</td>\n",
       "      <td>0.062328</td>\n",
       "    </tr>\n",
       "    <tr>\n",
       "      <th>4</th>\n",
       "      <td>U_1563_1292</td>\n",
       "      <td>0.037956</td>\n",
       "    </tr>\n",
       "    <tr>\n",
       "      <th>...</th>\n",
       "      <td>...</td>\n",
       "      <td>...</td>\n",
       "    </tr>\n",
       "    <tr>\n",
       "      <th>271</th>\n",
       "      <td>U_406_407</td>\n",
       "      <td>0.000105</td>\n",
       "    </tr>\n",
       "    <tr>\n",
       "      <th>272</th>\n",
       "      <td>U_617_953</td>\n",
       "      <td>0.000097</td>\n",
       "    </tr>\n",
       "    <tr>\n",
       "      <th>273</th>\n",
       "      <td>U_1256_953</td>\n",
       "      <td>0.000073</td>\n",
       "    </tr>\n",
       "    <tr>\n",
       "      <th>274</th>\n",
       "      <td>U_169_953</td>\n",
       "      <td>0.000038</td>\n",
       "    </tr>\n",
       "    <tr>\n",
       "      <th>275</th>\n",
       "      <td>U_407_528</td>\n",
       "      <td>0.0</td>\n",
       "    </tr>\n",
       "  </tbody>\n",
       "</table>\n",
       "<p>276 rows × 2 columns</p>\n",
       "</div>"
      ],
      "text/plain": [
       "         feature importance\n",
       "0    U_1062_1623    0.31968\n",
       "1      U_18_1563   0.084557\n",
       "2       U_169_18   0.063583\n",
       "3      U_169_617   0.062328\n",
       "4    U_1563_1292   0.037956\n",
       "..           ...        ...\n",
       "271    U_406_407   0.000105\n",
       "272    U_617_953   0.000097\n",
       "273   U_1256_953   0.000073\n",
       "274    U_169_953   0.000038\n",
       "275    U_407_528        0.0\n",
       "\n",
       "[276 rows x 2 columns]"
      ]
     },
     "execution_count": 35,
     "metadata": {},
     "output_type": "execute_result"
    }
   ],
   "source": [
    "rf_importances"
   ]
  },
  {
   "cell_type": "code",
   "execution_count": 58,
   "metadata": {},
   "outputs": [],
   "source": [
    "most_imp_fs = list(rf_importances.iloc[:20].feature)"
   ]
  },
  {
   "cell_type": "code",
   "execution_count": 48,
   "metadata": {},
   "outputs": [
    {
     "data": {
      "text/plain": [
       "{'coords': [0.0, 0.380888746024737, 0.235035233519136]}"
      ]
     },
     "execution_count": 48,
     "metadata": {},
     "output_type": "execute_result"
    }
   ],
   "source": [
    "g = data.graph\n",
    "g.nodes['406']"
   ]
  },
  {
   "cell_type": "code",
   "execution_count": 77,
   "metadata": {
    "scrolled": false
   },
   "outputs": [],
   "source": [
    "# fi_draw_one_case(g, most_imp_fs)"
   ]
  },
  {
   "cell_type": "code",
   "execution_count": null,
   "metadata": {},
   "outputs": [],
   "source": []
  },
  {
   "cell_type": "code",
   "execution_count": null,
   "metadata": {},
   "outputs": [],
   "source": []
  },
  {
   "cell_type": "markdown",
   "metadata": {
    "id": "XaUMcq22avuo"
   },
   "source": [
    "# AlexNet, ResNet, ViT ..."
   ]
  },
  {
   "cell_type": "code",
   "execution_count": 2,
   "metadata": {},
   "outputs": [
    {
     "data": {
      "text/plain": [
       "device(type='cpu')"
      ]
     },
     "execution_count": 2,
     "metadata": {},
     "output_type": "execute_result"
    }
   ],
   "source": [
    "device = torch.device(\"cuda:0\" if torch.cuda.is_available() else \"cpu\")\n",
    "device"
   ]
  },
  {
   "cell_type": "code",
   "execution_count": 3,
   "metadata": {},
   "outputs": [
    {
     "data": {
      "text/html": [
       "<div>\n",
       "<style scoped>\n",
       "    .dataframe tbody tr th:only-of-type {\n",
       "        vertical-align: middle;\n",
       "    }\n",
       "\n",
       "    .dataframe tbody tr th {\n",
       "        vertical-align: top;\n",
       "    }\n",
       "\n",
       "    .dataframe thead th {\n",
       "        text-align: right;\n",
       "    }\n",
       "</style>\n",
       "<table border=\"1\" class=\"dataframe\">\n",
       "  <thead>\n",
       "    <tr style=\"text-align: right;\">\n",
       "      <th></th>\n",
       "      <th>g_name</th>\n",
       "      <th>x</th>\n",
       "      <th>y</th>\n",
       "      <th>z</th>\n",
       "    </tr>\n",
       "  </thead>\n",
       "  <tbody>\n",
       "    <tr>\n",
       "      <th>0</th>\n",
       "      <td>cnt8_p0_0.gml</td>\n",
       "      <td>0.1</td>\n",
       "      <td>0.1</td>\n",
       "      <td>0.015</td>\n",
       "    </tr>\n",
       "    <tr>\n",
       "      <th>1</th>\n",
       "      <td>cnt8_p0_1.gml</td>\n",
       "      <td>0.1</td>\n",
       "      <td>0.1</td>\n",
       "      <td>0.030</td>\n",
       "    </tr>\n",
       "    <tr>\n",
       "      <th>2</th>\n",
       "      <td>cnt8_p0_2.gml</td>\n",
       "      <td>0.1</td>\n",
       "      <td>0.1</td>\n",
       "      <td>0.045</td>\n",
       "    </tr>\n",
       "    <tr>\n",
       "      <th>3</th>\n",
       "      <td>cnt8_p0_3.gml</td>\n",
       "      <td>0.1</td>\n",
       "      <td>0.1</td>\n",
       "      <td>0.060</td>\n",
       "    </tr>\n",
       "    <tr>\n",
       "      <th>4</th>\n",
       "      <td>cnt8_p0_4.gml</td>\n",
       "      <td>0.1</td>\n",
       "      <td>0.1</td>\n",
       "      <td>0.075</td>\n",
       "    </tr>\n",
       "  </tbody>\n",
       "</table>\n",
       "</div>"
      ],
      "text/plain": [
       "          g_name    x    y      z\n",
       "0  cnt8_p0_0.gml  0.1  0.1  0.015\n",
       "1  cnt8_p0_1.gml  0.1  0.1  0.030\n",
       "2  cnt8_p0_2.gml  0.1  0.1  0.045\n",
       "3  cnt8_p0_3.gml  0.1  0.1  0.060\n",
       "4  cnt8_p0_4.gml  0.1  0.1  0.075"
      ]
     },
     "execution_count": 3,
     "metadata": {},
     "output_type": "execute_result"
    }
   ],
   "source": [
    "data_path = '/Users/glebcom/Desktop/skoltech/research/nb/data'\n",
    "\n",
    "labels = pd.read_csv(f'{data_path}/df_labels.csv', index_col=0).iloc[:-1]\n",
    "labels.head()"
   ]
  },
  {
   "cell_type": "code",
   "execution_count": 4,
   "metadata": {},
   "outputs": [],
   "source": [
    "batch_size = 8\n",
    "validation_split = 0.3\n",
    "shuffle_dataset = True\n",
    "outp_chennels = 3\n",
    "n_epochs = 5"
   ]
  },
  {
   "cell_type": "code",
   "execution_count": 5,
   "metadata": {},
   "outputs": [],
   "source": [
    "train, test = train_test_split(labels, test_size=0.2, random_state=seed)"
   ]
  },
  {
   "cell_type": "code",
   "execution_count": 6,
   "metadata": {},
   "outputs": [],
   "source": [
    "train_sampler = SubsetRandomSampler(train.index.to_list())\n",
    "valid_sampler = SubsetRandomSampler(test.index.to_list())\n",
    "\n",
    "transform = transforms.Compose([\n",
    "    transforms.ToTensor(),\n",
    "    #transforms.Normalize((3.432508856546101e-06,), (1.3494692066886702e-06,)),\n",
    "])"
   ]
  },
  {
   "cell_type": "code",
   "execution_count": 7,
   "metadata": {},
   "outputs": [],
   "source": [
    "class CNTdataset(Dataset):\n",
    "    def __init__(self, graphs_path, labels_path, transform=None):\n",
    "        self.graphs_path = graphs_path\n",
    "        self.transform = transform\n",
    "        self.labels = pd.read_csv(labels_path, index_col=0).iloc[:-1]\n",
    "        \n",
    "    def __len__(self):\n",
    "        return len(self.labels)\n",
    "    \n",
    "    def __getitem__(self, index):\n",
    "        g_path = os.path.join(self.graphs_path,\n",
    "                              self.labels.loc[index, 'g_name'])\n",
    "        g = nx.read_gml(g_path)\n",
    "        attr_matr = np.squeeze(np.asarray(nx.attr_matrix(g, edge_attr=\"U\")[0]))\n",
    "        label = torch.tensor(list(self.labels.loc[index, ['x', 'y', 'z']]))\n",
    "        \n",
    "        if self.transform is not None:\n",
    "            attr_matr = self.transform(attr_matr)\n",
    "        return attr_matr, label"
   ]
  },
  {
   "cell_type": "code",
   "execution_count": 8,
   "metadata": {},
   "outputs": [],
   "source": [
    "graphs_path = '/Users/glebcom/Desktop/skoltech/research/nb/data/graphs'\n",
    "labels_path = '/Users/glebcom/Desktop/skoltech/research/nb/data/df_labels.csv'\n",
    "\n",
    "dataset = CNTdataset(graphs_path, labels_path, transform)\n",
    "\n",
    "train_loader = torch.utils.data.DataLoader(dataset, \n",
    "                                           batch_size=batch_size, \n",
    "                                           sampler=train_sampler,\n",
    "                                           worker_init_fn=seed_worker,\n",
    "                                           generator=g)\n",
    "\n",
    "validation_loader = torch.utils.data.DataLoader(dataset, \n",
    "                                                batch_size=batch_size, \n",
    "                                                sampler=valid_sampler,\n",
    "                                                worker_init_fn=seed_worker,\n",
    "                                                generator=g)"
   ]
  },
  {
   "cell_type": "code",
   "execution_count": 456,
   "metadata": {},
   "outputs": [],
   "source": [
    "# model = models.vgg16_bn()\n",
    "# model_name = 'vgg16bn'\n",
    "\n",
    "# model.features[0] = nn.Conv2d(1, 64, kernel_size=(3, 3), stride=(1, 1), padding=(1, 1))\n",
    "# model.classifier[6] = nn.Linear(4096, outp_chennels)\n",
    "\n",
    "\n",
    "model = models.resnet18()\n",
    "model_name = 'resnet18'\n",
    "\n",
    "model.conv1 = nn.Conv2d(1, 64, kernel_size=(7, 7), stride=(2, 2), padding=(3, 3), bias=False)\n",
    "model.fc = nn.Linear(512, outp_chennels)"
   ]
  },
  {
   "cell_type": "code",
   "execution_count": 457,
   "metadata": {},
   "outputs": [],
   "source": [
    "# print(model)"
   ]
  },
  {
   "cell_type": "code",
   "execution_count": 480,
   "metadata": {},
   "outputs": [],
   "source": [
    "def epoch_train(loader, model, criterion, opt):\n",
    "    model.train()\n",
    "\n",
    "    train_loss = 0\n",
    "    #correct = 0\n",
    "    #total = 0\n",
    "\n",
    "    for inputs, labels in loader:\n",
    "        inputs, labels = inputs.to(device), labels.to(device)\n",
    "        opt.zero_grad()\n",
    "        outputs = model(inputs.float())\n",
    "        loss = criterion(outputs, labels)\n",
    "        loss.backward()\n",
    "        opt.step()\n",
    "\n",
    "        train_loss += loss.item()\n",
    "\n",
    "        #_, predicted = outputs.max(1)\n",
    "        #total += labels.size(0)\n",
    "        #correct += predicted.eq(labels).sum().item()\n",
    "\n",
    "    return train_loss/len(loader)#, correct / total\n",
    "\n",
    "def epoch_test(loader, model, criterion):\n",
    "    model.eval()\n",
    "\n",
    "    valid_loss = 0\n",
    "    #correct=0\n",
    "    #total=0\n",
    "\n",
    "    with torch.no_grad():\n",
    "        errors = []\n",
    "        for inputs, labels in loader:\n",
    "            inputs, labels = inputs.to(device), labels.to(device)\n",
    "            outputs = model(inputs.float())\n",
    "            loss = criterion(outputs, labels)\n",
    "\n",
    "            valid_loss += loss.item()\n",
    "            \n",
    "            error_d = []\n",
    "            for p,phat in zip(labels.numpy(), outputs.numpy()):\n",
    "                sq_sum = np.sum((p-phat)**2)\n",
    "                error_d.append(np.sqrt(sq_sum))\n",
    "            error_d = np.round(np.array(error_d), 4)\n",
    "            \n",
    "            errors.extend(error_d)\n",
    "            #_, predicted = outputs.max(1)\n",
    "            #total += labels.size(0)\n",
    "            #correct += predicted.eq(labels).sum().item()\n",
    "\n",
    "    return valid_loss/len(loader), np.array(errors)\n",
    "\n",
    "def train(train_loader, test_loader, clf, criterion, opt, n_epochs=3):\n",
    "    tr_acc, ts_acc = [], []\n",
    "    tr_loss, ts_loss = [], []\n",
    "\n",
    "    for epoch in tqdm(range(n_epochs)):\n",
    "        train_loss = epoch_train(train_loader, clf, criterion, opt)\n",
    "        test_loss, errors = epoch_test(test_loader, clf, criterion)\n",
    "        print(f'dist <= 0.05:  {round(len(errors[errors<=0.05])*100/len(errors),2)} %')\n",
    "\n",
    "        print(f'[Epoch {epoch + 1}] train loss: {train_loss:.3f}; ' + \n",
    "              f'test loss: {test_loss:.3f}')\n",
    "        \n",
    "        #tr_acc.append(train_acc)\n",
    "        tr_loss.append(train_loss)\n",
    "\n",
    "        #ts_acc.append(test_acc)\n",
    "        ts_loss.append(test_loss)\n",
    "\n",
    "    return tr_loss, ts_loss"
   ]
  },
  {
   "cell_type": "code",
   "execution_count": 481,
   "metadata": {},
   "outputs": [
    {
     "name": "stdout",
     "output_type": "stream",
     "text": [
      "Number of weights: 11171779\n"
     ]
    }
   ],
   "source": [
    "print('Number of weights:', np.sum([np.prod(p.shape) for p in model.parameters()]))"
   ]
  },
  {
   "cell_type": "code",
   "execution_count": 482,
   "metadata": {},
   "outputs": [
    {
     "name": "stderr",
     "output_type": "stream",
     "text": [
      " 33%|███████████████                              | 1/3 [00:10<00:21, 10.70s/it]"
     ]
    },
    {
     "name": "stdout",
     "output_type": "stream",
     "text": [
      "dist <= 0.05:  0.0 %\n",
      "[Epoch 1] train loss: 0.826; test loss: 0.806\n"
     ]
    },
    {
     "name": "stderr",
     "output_type": "stream",
     "text": [
      " 67%|██████████████████████████████               | 2/3 [00:21<00:10, 10.55s/it]"
     ]
    },
    {
     "name": "stdout",
     "output_type": "stream",
     "text": [
      "dist <= 0.05:  0.0 %\n",
      "[Epoch 2] train loss: 0.810; test loss: 0.832\n"
     ]
    },
    {
     "name": "stderr",
     "output_type": "stream",
     "text": [
      "100%|█████████████████████████████████████████████| 3/3 [00:31<00:00, 10.51s/it]"
     ]
    },
    {
     "name": "stdout",
     "output_type": "stream",
     "text": [
      "dist <= 0.05:  0.0 %\n",
      "[Epoch 3] train loss: 0.816; test loss: 0.826\n"
     ]
    },
    {
     "name": "stderr",
     "output_type": "stream",
     "text": [
      "\n"
     ]
    }
   ],
   "source": [
    "opt = optim.Adam(model.parameters(), lr=3e-4)\n",
    "criterion = nn.CrossEntropyLoss()\n",
    "\n",
    "model = model.to(device)\n",
    "\n",
    "loss_tr, loss_ts = train(train_loader, validation_loader, model, criterion, opt, n_epochs=num_epochs)"
   ]
  },
  {
   "cell_type": "code",
   "execution_count": 468,
   "metadata": {},
   "outputs": [
    {
     "data": {
      "image/png": "[encoded data removed]",
      "text/plain": [
       "<Figure size 720x288 with 1 Axes>"
      ]
     },
     "metadata": {
      "needs_background": "light"
     },
     "output_type": "display_data"
    }
   ],
   "source": [
    "fig = plt.figure(figsize=(10,4))\n",
    "sn.set_style('white')\n",
    "plt.title(f'Train - Validation Loss ({model_name})', fontsize=15)\n",
    "plt.plot(range(1, n_epochs+1), loss_tr, '-o', label='Train', c='red')\n",
    "plt.plot(range(1, n_epochs+1), loss_ts, '-o',  label='Validation', c='blue')\n",
    "plt.xlabel('Epochs', fontsize=15)\n",
    "plt.xticks(range(1, n_epochs+1), fontsize=15)\n",
    "plt.yticks(fontsize=15)\n",
    "plt.ylabel('Loss', fontsize=15)\n",
    "plt.legend(loc='best', fontsize=15)\n",
    "plt.grid()"
   ]
  },
  {
   "cell_type": "code",
   "execution_count": null,
   "metadata": {},
   "outputs": [],
   "source": []
  },
  {
   "cell_type": "code",
   "execution_count": null,
   "metadata": {},
   "outputs": [],
   "source": []
  },
  {
   "cell_type": "code",
   "execution_count": null,
   "metadata": {
    "id": "9ZoYqZmOaup4"
   },
   "outputs": [],
   "source": [
    "# class ToTensor(object):\n",
    "#     \"\"\"\n",
    "#     Convert ndarrays in sample to Tensors\n",
    "#     \"\"\"\n",
    "\n",
    "#     def __call__(self, sample):\n",
    "#         data, y = sample['data'], sample['y']\n",
    "#         return {'data': torch.from_numpy(data).unsqueeze(0),\n",
    "#                 'y': torch.from_numpy(y)}\n",
    "\n",
    "# # in-memory dataset\n",
    "# class CompositeDataset(Dataset):\n",
    "#     def __init__(self, df, nodes_on_surface, transform=None):\n",
    "#         self.data = df.iloc[:, 1:-3].to_numpy()\n",
    "#         self.labels = df.iloc[:, -3:].to_numpy()\n",
    "#         self.__n = nodes_on_surface\n",
    "#         self.transform = transform\n",
    "\n",
    "#     def __len__(self):\n",
    "#         return len(self.data)\n",
    "\n",
    "#     def __getitem__(self, index):\n",
    "#         X = np.zeros((self.__n, self.__n))\n",
    "#         tmp = self.data[index]\n",
    "#         step = self.__n - 1\n",
    "#         next_pos = 0\n",
    "#         for i in range(self.__n):\n",
    "#             X[i, i+1:] = tmp[next_pos:next_pos+step]\n",
    "#             next_pos += step\n",
    "#             step -= 1\n",
    "\n",
    "#         y = self.labels[index]\n",
    "\n",
    "#         sample = {'data': X, 'y': y}\n",
    "\n",
    "#         if self.transform:\n",
    "#             sample = self.transform(sample)\n",
    "#         return sample"
   ]
  }
 ],
 "metadata": {
  "colab": {
   "collapsed_sections": [
    "t9QXUbjq41Mg"
   ],
   "name": "2 VANILLA & DL (v2).ipynb",
   "provenance": [],
   "toc_visible": true
  },
  "kernelspec": {
   "display_name": "Python 3 (ipykernel)",
   "language": "python",
   "name": "python3"
  },
  "language_info": {
   "codemirror_mode": {
    "name": "ipython",
    "version": 3
   },
   "file_extension": ".py",
   "mimetype": "text/x-python",
   "name": "python",
   "nbconvert_exporter": "python",
   "pygments_lexer": "ipython3",
   "version": "3.9.12"
  }
 },
 "nbformat": 4,
 "nbformat_minor": 4
}
